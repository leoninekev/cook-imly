{
 "cells": [
  {
   "cell_type": "markdown",
   "metadata": {},
   "source": [
    "#### Matrix factorization via NN, contrasting MAE with surpriselib's baseline algos SVD, SVD++"
   ]
  },
  {
   "cell_type": "code",
   "execution_count": 120,
   "metadata": {},
   "outputs": [],
   "source": [
    "import os\n",
    "import numpy as np\n",
    "import pandas as pd\n",
    "\n",
    "\n",
    "data_path = os.path.expanduser('C:\\\\Users\\\\might\\\\Desktop\\\\jupyter notebooks\\\\u.data')"
   ]
  },
  {
   "cell_type": "markdown",
   "metadata": {},
   "source": [
    "* #### original df containing all 100k data points"
   ]
  },
  {
   "cell_type": "code",
   "execution_count": 137,
   "metadata": {
    "scrolled": false
   },
   "outputs": [
    {
     "data": {
      "text/html": [
       "<div>\n",
       "<style scoped>\n",
       "    .dataframe tbody tr th:only-of-type {\n",
       "        vertical-align: middle;\n",
       "    }\n",
       "\n",
       "    .dataframe tbody tr th {\n",
       "        vertical-align: top;\n",
       "    }\n",
       "\n",
       "    .dataframe thead th {\n",
       "        text-align: right;\n",
       "    }\n",
       "</style>\n",
       "<table border=\"1\" class=\"dataframe\">\n",
       "  <thead>\n",
       "    <tr style=\"text-align: right;\">\n",
       "      <th></th>\n",
       "      <th>0</th>\n",
       "      <th>1</th>\n",
       "      <th>2</th>\n",
       "      <th>3</th>\n",
       "    </tr>\n",
       "  </thead>\n",
       "  <tbody>\n",
       "    <tr>\n",
       "      <th>0</th>\n",
       "      <td>196</td>\n",
       "      <td>242</td>\n",
       "      <td>0</td>\n",
       "      <td>881250949</td>\n",
       "    </tr>\n",
       "    <tr>\n",
       "      <th>1</th>\n",
       "      <td>186</td>\n",
       "      <td>302</td>\n",
       "      <td>0</td>\n",
       "      <td>891717742</td>\n",
       "    </tr>\n",
       "    <tr>\n",
       "      <th>2</th>\n",
       "      <td>22</td>\n",
       "      <td>377</td>\n",
       "      <td>0</td>\n",
       "      <td>878887116</td>\n",
       "    </tr>\n",
       "    <tr>\n",
       "      <th>3</th>\n",
       "      <td>244</td>\n",
       "      <td>51</td>\n",
       "      <td>0</td>\n",
       "      <td>880606923</td>\n",
       "    </tr>\n",
       "    <tr>\n",
       "      <th>4</th>\n",
       "      <td>166</td>\n",
       "      <td>346</td>\n",
       "      <td>0</td>\n",
       "      <td>886397596</td>\n",
       "    </tr>\n",
       "  </tbody>\n",
       "</table>\n",
       "</div>"
      ],
      "text/plain": [
       "     0    1  2          3\n",
       "0  196  242  0  881250949\n",
       "1  186  302  0  891717742\n",
       "2   22  377  0  878887116\n",
       "3  244   51  0  880606923\n",
       "4  166  346  0  886397596"
      ]
     },
     "execution_count": 137,
     "metadata": {},
     "output_type": "execute_result"
    }
   ],
   "source": [
    "df = pd.read_csv(data_path, sep='\\t', header=None)\n",
    "df[2]= df[2].apply(lambda x: int(x>3))#since in df, no. vals holding 1 ratings:6110, 2 ratings:11370, 3 ratings:27145, 4 ratings:34174, 5 ratings: 21201 \n",
    "df.head(5)#Therefore all ratings(55375) of 4,5 squished to 1 & all ratings(44625) of 1,2,3 are squished to 0"
   ]
  },
  {
   "cell_type": "code",
   "execution_count": 5,
   "metadata": {},
   "outputs": [
    {
     "name": "stdout",
     "output_type": "stream",
     "text": [
      "shape of dataset: (100000, 4)\n"
     ]
    }
   ],
   "source": [
    "shuffled_df = df.loc[np.random.randint(0, 100000, size=df.shape[0])]\n",
    "\n",
    "#sm_train_df = shuffled_df[:80000]#small dataframe, trimming data points to random 2000 datapoints\n",
    "#test_df= shuffled_df[-20000:]\n",
    "\n",
    "#print('new trimmed dataset:', sm_train_df.shape, '\\nnew test dataset:', test_df.shape)\n",
    "print('shape of dataset:', shuffled_df.shape)"
   ]
  },
  {
   "cell_type": "markdown",
   "metadata": {},
   "source": []
  },
  {
   "cell_type": "markdown",
   "metadata": {},
   "source": [
    "* #### Training & testing results with SVD from surpriselib\n",
    "    * Using same dataframes for all three\n",
    "    * n_factors= 100, epochs= 40"
   ]
  },
  {
   "cell_type": "code",
   "execution_count": 6,
   "metadata": {
    "scrolled": true
   },
   "outputs": [],
   "source": [
    "from surprise import SVD\n",
    "from surprise import Dataset\n",
    "from surprise import Reader\n",
    "\n",
    "from surprise.model_selection import train_test_split\n",
    "\n",
    "rdr = Reader(rating_scale=(0,1))\n",
    "#train_data = Dataset.load_from_df(sm_train_df[[0,1,2]], reader= rdr)\n",
    "data = Dataset.load_from_df(shuffled_df[[0,1,2]], reader= rdr)\n",
    "\n",
    "#trainset = train_data.build_full_trainset()#contains 80k data points\n",
    "\n",
    "trainset, testset = train_test_split(data, test_size=0.2)\n",
    "#both trainset & testset have their ratings value swapped from 1 in place of 0; and 2 in place of 1\n",
    "\n",
    "#test_data= Dataset.load_from_df(test_df[[0,1,2]], reader= rdr)\n",
    "#testset = test_data.build_full_trainset().build_testset()#testset for surprise.SVD"
   ]
  },
  {
   "cell_type": "code",
   "execution_count": 55,
   "metadata": {},
   "outputs": [
    {
     "name": "stdout",
     "output_type": "stream",
     "text": [
      "training time: 7.292524099349976\n"
     ]
    }
   ],
   "source": [
    "from surprise import accuracy\n",
    "import time\n",
    "\n",
    "t1= time.time()\n",
    "\n",
    "algo_svd = SVD(n_factors=100, n_epochs=40)\n",
    "\n",
    "algo_svd.fit(trainset)\n",
    "\n",
    "print('training time:', time.time()-t1)"
   ]
  },
  {
   "cell_type": "code",
   "execution_count": 56,
   "metadata": {},
   "outputs": [
    {
     "name": "stdout",
     "output_type": "stream",
     "text": [
      "RMSE: 0.3725\n",
      "MAE:  0.3045\n",
      "\n",
      "Test results on 80k training data & 20k test data -- rmse: 0.3725005375154264, mae: 0.3045276583389787\n"
     ]
    }
   ],
   "source": [
    "pred = algo_svd.test(testset)\n",
    "\n",
    "print('\\nTest results on 80k training data & 20k test data -- rmse: {}, mae: {}'.format(accuracy.rmse(pred), accuracy.mae(pred)))"
   ]
  },
  {
   "cell_type": "code",
   "execution_count": null,
   "metadata": {},
   "outputs": [],
   "source": []
  },
  {
   "cell_type": "markdown",
   "metadata": {},
   "source": [
    "* #### Creating confusion matrix"
   ]
  },
  {
   "cell_type": "code",
   "execution_count": 239,
   "metadata": {
    "scrolled": true
   },
   "outputs": [
    {
     "data": {
      "text/html": [
       "<div>\n",
       "<style scoped>\n",
       "    .dataframe tbody tr th:only-of-type {\n",
       "        vertical-align: middle;\n",
       "    }\n",
       "\n",
       "    .dataframe tbody tr th {\n",
       "        vertical-align: top;\n",
       "    }\n",
       "\n",
       "    .dataframe thead th {\n",
       "        text-align: right;\n",
       "    }\n",
       "</style>\n",
       "<table border=\"1\" class=\"dataframe\">\n",
       "  <thead>\n",
       "    <tr style=\"text-align: right;\">\n",
       "      <th></th>\n",
       "      <th>uid</th>\n",
       "      <th>iid</th>\n",
       "      <th>r_ui</th>\n",
       "      <th>est</th>\n",
       "      <th>details</th>\n",
       "    </tr>\n",
       "  </thead>\n",
       "  <tbody>\n",
       "    <tr>\n",
       "      <th>0</th>\n",
       "      <td>409</td>\n",
       "      <td>854</td>\n",
       "      <td>1.0</td>\n",
       "      <td>1.0</td>\n",
       "      <td>{'was_impossible': False}</td>\n",
       "    </tr>\n",
       "    <tr>\n",
       "      <th>1</th>\n",
       "      <td>456</td>\n",
       "      <td>608</td>\n",
       "      <td>1.0</td>\n",
       "      <td>0.0</td>\n",
       "      <td>{'was_impossible': False}</td>\n",
       "    </tr>\n",
       "    <tr>\n",
       "      <th>2</th>\n",
       "      <td>474</td>\n",
       "      <td>294</td>\n",
       "      <td>0.0</td>\n",
       "      <td>1.0</td>\n",
       "      <td>{'was_impossible': False}</td>\n",
       "    </tr>\n",
       "    <tr>\n",
       "      <th>3</th>\n",
       "      <td>276</td>\n",
       "      <td>82</td>\n",
       "      <td>1.0</td>\n",
       "      <td>1.0</td>\n",
       "      <td>{'was_impossible': False}</td>\n",
       "    </tr>\n",
       "    <tr>\n",
       "      <th>4</th>\n",
       "      <td>91</td>\n",
       "      <td>1050</td>\n",
       "      <td>0.0</td>\n",
       "      <td>1.0</td>\n",
       "      <td>{'was_impossible': False}</td>\n",
       "    </tr>\n",
       "    <tr>\n",
       "      <th>5</th>\n",
       "      <td>178</td>\n",
       "      <td>317</td>\n",
       "      <td>1.0</td>\n",
       "      <td>1.0</td>\n",
       "      <td>{'was_impossible': False}</td>\n",
       "    </tr>\n",
       "    <tr>\n",
       "      <th>6</th>\n",
       "      <td>851</td>\n",
       "      <td>1009</td>\n",
       "      <td>0.0</td>\n",
       "      <td>1.0</td>\n",
       "      <td>{'was_impossible': False}</td>\n",
       "    </tr>\n",
       "  </tbody>\n",
       "</table>\n",
       "</div>"
      ],
      "text/plain": [
       "   uid   iid  r_ui  est                    details\n",
       "0  409   854   1.0  1.0  {'was_impossible': False}\n",
       "1  456   608   1.0  0.0  {'was_impossible': False}\n",
       "2  474   294   0.0  1.0  {'was_impossible': False}\n",
       "3  276    82   1.0  1.0  {'was_impossible': False}\n",
       "4   91  1050   0.0  1.0  {'was_impossible': False}\n",
       "5  178   317   1.0  1.0  {'was_impossible': False}\n",
       "6  851  1009   0.0  1.0  {'was_impossible': False}"
      ]
     },
     "execution_count": 239,
     "metadata": {},
     "output_type": "execute_result"
    }
   ],
   "source": [
    "pred_arr= pd.DataFrame(pred)\n",
    "pred_arr['est']= pred_arr['est'].apply(lambda x:float(round(x)))\n",
    "pred_arr.head(7)"
   ]
  },
  {
   "cell_type": "code",
   "execution_count": 264,
   "metadata": {
    "scrolled": true
   },
   "outputs": [
    {
     "data": {
      "text/plain": [
       "9526"
      ]
     },
     "execution_count": 264,
     "metadata": {},
     "output_type": "execute_result"
    }
   ],
   "source": [
    "np.intersect1d(np.where(pred_arr[:, 2]==1), np.where(pred_arr[:, 3]==1)).shape[0]"
   ]
  },
  {
   "cell_type": "code",
   "execution_count": 272,
   "metadata": {},
   "outputs": [
    {
     "data": {
      "text/plain": [
       "6822"
      ]
     },
     "execution_count": 272,
     "metadata": {},
     "output_type": "execute_result"
    }
   ],
   "source": [
    "np.intersect1d(np.where(pred_arr[:, 2]==0), np.where(pred_arr[:, 3]==0)).shape[0]"
   ]
  },
  {
   "cell_type": "code",
   "execution_count": 271,
   "metadata": {},
   "outputs": [
    {
     "data": {
      "text/plain": [
       "1470"
      ]
     },
     "execution_count": 271,
     "metadata": {},
     "output_type": "execute_result"
    }
   ],
   "source": [
    "np.intersect1d(np.where(pred_arr[:, 2]==1), np.where(pred_arr[:, 3]==0)).shape[0]"
   ]
  },
  {
   "cell_type": "code",
   "execution_count": 280,
   "metadata": {},
   "outputs": [
    {
     "data": {
      "text/plain": [
       "2182"
      ]
     },
     "execution_count": 280,
     "metadata": {},
     "output_type": "execute_result"
    }
   ],
   "source": [
    "np.intersect1d(np.where(pred_arr[:, 2]==0), np.where(pred_arr[:, 3]==1)).shape[0]"
   ]
  },
  {
   "cell_type": "code",
   "execution_count": null,
   "metadata": {},
   "outputs": [],
   "source": []
  },
  {
   "cell_type": "code",
   "execution_count": 286,
   "metadata": {},
   "outputs": [],
   "source": [
    "def confusion_matrix(pred):\n",
    "    pred_arr= pd.DataFrame(pred)\n",
    "    pred_arr['est']= pred_arr['est'].apply(lambda x:float(round(x)))#changing prediction values to just 0s & 1s\n",
    "    pred_arr= np.asarray(pred_arr)[:,:4]#contains first 4 cols of pred array, removing timestamp\n",
    "    \n",
    "    conf_df = pd.DataFrame(index=['True rating 1', 'True rating 0'], columns=['Estimated rating 1', 'Estimated rating 0'])\n",
    "    \n",
    "    conf_df['Estimated rating 1']['True rating 1']= np.intersect1d(np.where(pred_arr[:, 2]==1), np.where(pred_arr[:, 3]==1)).shape[0]#True Positives, 9526\n",
    "    conf_df['Estimated rating 0']['True rating 0']= np.intersect1d(np.where(pred_arr[:, 2]==0), np.where(pred_arr[:, 3]==0)).shape[0]#True Negatives, 6822\n",
    "    conf_df['Estimated rating 0']['True rating 1']= np.intersect1d(np.where(pred_arr[:, 2]==1), np.where(pred_arr[:, 3]==0)).shape[0]#False Negatives, 1470\n",
    "    conf_df['Estimated rating 1']['True rating 0']= np.intersect1d(np.where(pred_arr[:, 2]==0), np.where(pred_arr[:, 3]==1)).shape[0]#False Positives, 2182\n",
    "    \n",
    "    return np.asarray(conf_df), conf_df"
   ]
  },
  {
   "cell_type": "code",
   "execution_count": 287,
   "metadata": {},
   "outputs": [
    {
     "data": {
      "text/html": [
       "<div>\n",
       "<style scoped>\n",
       "    .dataframe tbody tr th:only-of-type {\n",
       "        vertical-align: middle;\n",
       "    }\n",
       "\n",
       "    .dataframe tbody tr th {\n",
       "        vertical-align: top;\n",
       "    }\n",
       "\n",
       "    .dataframe thead th {\n",
       "        text-align: right;\n",
       "    }\n",
       "</style>\n",
       "<table border=\"1\" class=\"dataframe\">\n",
       "  <thead>\n",
       "    <tr style=\"text-align: right;\">\n",
       "      <th></th>\n",
       "      <th>Estimated rating 1</th>\n",
       "      <th>Estimated rating 0</th>\n",
       "    </tr>\n",
       "  </thead>\n",
       "  <tbody>\n",
       "    <tr>\n",
       "      <th>True rating 1</th>\n",
       "      <td>9526</td>\n",
       "      <td>1470</td>\n",
       "    </tr>\n",
       "    <tr>\n",
       "      <th>True rating 0</th>\n",
       "      <td>2182</td>\n",
       "      <td>6822</td>\n",
       "    </tr>\n",
       "  </tbody>\n",
       "</table>\n",
       "</div>"
      ],
      "text/plain": [
       "              Estimated rating 1 Estimated rating 0\n",
       "True rating 1               9526               1470\n",
       "True rating 0               2182               6822"
      ]
     },
     "execution_count": 287,
     "metadata": {},
     "output_type": "execute_result"
    }
   ],
   "source": [
    "confusion_mat, confusion_df = conf_mat(pred)\n",
    "confusion_df"
   ]
  },
  {
   "cell_type": "code",
   "execution_count": 288,
   "metadata": {},
   "outputs": [
    {
     "name": "stdout",
     "output_type": "stream",
     "text": [
      "[[9526 1470]\n",
      " [2182 6822]]\n"
     ]
    }
   ],
   "source": [
    "print(confusion_mat)"
   ]
  },
  {
   "cell_type": "code",
   "execution_count": null,
   "metadata": {},
   "outputs": [],
   "source": []
  },
  {
   "cell_type": "markdown",
   "metadata": {},
   "source": [
    "* ### Testing with individual cases"
   ]
  },
  {
   "cell_type": "code",
   "execution_count": 48,
   "metadata": {},
   "outputs": [
    {
     "name": "stdout",
     "output_type": "stream",
     "text": [
      "(716, 480, 2.0)\n"
     ]
    }
   ],
   "source": [
    "testcase = testset[np.random.randint(len(testset))]\n",
    "print(testcase)"
   ]
  },
  {
   "cell_type": "code",
   "execution_count": 166,
   "metadata": {},
   "outputs": [
    {
     "name": "stdout",
     "output_type": "stream",
     "text": [
      "user: 716        item: 480        r_ui = 1.00   est = 0.98   {'was_impossible': False}\n",
      "\n",
      "Predictions with SVD :\n",
      " user: 716        item: 480        r_ui = 1.00   est = 0.98   {'was_impossible': False}\n"
     ]
    }
   ],
   "source": [
    "# int(testcase[2]>1) ;  because testset contains labels 0 in original df as 1 & 1 as 2\n",
    "print('\\nPredictions with SVD :\\n', algo_svd.predict(testcase[0], testcase[1], int(testcase[2]>1), verbose=True))"
   ]
  },
  {
   "cell_type": "markdown",
   "metadata": {},
   "source": []
  },
  {
   "cell_type": "markdown",
   "metadata": {},
   "source": [
    "* #### Training & testing results with SVD++ from surpirselib\n",
    "    * Using same dataframes for both\n",
    "    * n_factors= 100, epochs= 40"
   ]
  },
  {
   "cell_type": "code",
   "execution_count": 46,
   "metadata": {},
   "outputs": [
    {
     "name": "stdout",
     "output_type": "stream",
     "text": [
      "training time: 775.9093706607819\n"
     ]
    }
   ],
   "source": [
    "from surprise import SVDpp\n",
    "\n",
    "t1= time.time()\n",
    "\n",
    "algo_svdpp = SVDpp(n_factors=100, n_epochs=40)\n",
    "\n",
    "algo_svdpp.fit(trainset)\n",
    "\n",
    "print('training time:', time.time()-t1)\n"
   ]
  },
  {
   "cell_type": "code",
   "execution_count": 47,
   "metadata": {},
   "outputs": [
    {
     "name": "stdout",
     "output_type": "stream",
     "text": [
      "RMSE: 0.3543\n",
      "MAE:  0.2791\n",
      "\n",
      "Test results on 80k training data & 20k test data -- rmse:0.35433296400534825, mae:0.2791093764734291\n"
     ]
    }
   ],
   "source": [
    "pred = algo_svdpp.test(testset)\n",
    "\n",
    "print('\\nTest results on 80k training data & 20k test data -- rmse:{}, mae:{}'.format(accuracy.rmse(pred), accuracy.mae(pred)))"
   ]
  },
  {
   "cell_type": "code",
   "execution_count": 54,
   "metadata": {},
   "outputs": [
    {
     "name": "stdout",
     "output_type": "stream",
     "text": [
      "user: 716        item: 480        r_ui = 2.00   est = 0.97   {'was_impossible': False}\n",
      "\n",
      "Predictions with SVD++:\n",
      " user: 716        item: 480        r_ui = 2.00   est = 0.97   {'was_impossible': False}\n"
     ]
    }
   ],
   "source": [
    "print('\\nPredictions with SVD++:\\n', algo_svdpp.predict(testcase[0], testcase[1], testcase[2], verbose=True))"
   ]
  },
  {
   "cell_type": "code",
   "execution_count": null,
   "metadata": {},
   "outputs": [],
   "source": []
  },
  {
   "cell_type": "markdown",
   "metadata": {},
   "source": [
    "* #### Training & testing results with matrix factorization implemented with NN\n",
    "    * Using same dataframes as above\n",
    "    * Latent vector (k) size : 100, epochs =40"
   ]
  },
  {
   "cell_type": "code",
   "execution_count": 99,
   "metadata": {},
   "outputs": [
    {
     "name": "stdout",
     "output_type": "stream",
     "text": [
      "shape of dataset: (100000, 4)\n"
     ]
    }
   ],
   "source": [
    "#print('new trimmed dataset:', sm_train_df.shape, '\\nnew test dataset:', test_df.shape)\n",
    "\n",
    "print('shape of dataset:', shuffled_df.shape)"
   ]
  },
  {
   "cell_type": "code",
   "execution_count": 100,
   "metadata": {
    "scrolled": true
   },
   "outputs": [
    {
     "data": {
      "text/html": [
       "<div>\n",
       "<style scoped>\n",
       "    .dataframe tbody tr th:only-of-type {\n",
       "        vertical-align: middle;\n",
       "    }\n",
       "\n",
       "    .dataframe tbody tr th {\n",
       "        vertical-align: top;\n",
       "    }\n",
       "\n",
       "    .dataframe thead th {\n",
       "        text-align: right;\n",
       "    }\n",
       "</style>\n",
       "<table border=\"1\" class=\"dataframe\">\n",
       "  <thead>\n",
       "    <tr style=\"text-align: right;\">\n",
       "      <th></th>\n",
       "      <th>0</th>\n",
       "      <th>1</th>\n",
       "      <th>2</th>\n",
       "      <th>3</th>\n",
       "    </tr>\n",
       "  </thead>\n",
       "  <tbody>\n",
       "    <tr>\n",
       "      <th>94422</th>\n",
       "      <td>378</td>\n",
       "      <td>38</td>\n",
       "      <td>0</td>\n",
       "      <td>880333383</td>\n",
       "    </tr>\n",
       "    <tr>\n",
       "      <th>89311</th>\n",
       "      <td>894</td>\n",
       "      <td>313</td>\n",
       "      <td>1</td>\n",
       "      <td>883518874</td>\n",
       "    </tr>\n",
       "    <tr>\n",
       "      <th>32277</th>\n",
       "      <td>498</td>\n",
       "      <td>1007</td>\n",
       "      <td>0</td>\n",
       "      <td>881954219</td>\n",
       "    </tr>\n",
       "    <tr>\n",
       "      <th>70178</th>\n",
       "      <td>10</td>\n",
       "      <td>617</td>\n",
       "      <td>1</td>\n",
       "      <td>877892160</td>\n",
       "    </tr>\n",
       "    <tr>\n",
       "      <th>30079</th>\n",
       "      <td>57</td>\n",
       "      <td>126</td>\n",
       "      <td>0</td>\n",
       "      <td>883697293</td>\n",
       "    </tr>\n",
       "  </tbody>\n",
       "</table>\n",
       "</div>"
      ],
      "text/plain": [
       "         0     1  2          3\n",
       "94422  378    38  0  880333383\n",
       "89311  894   313  1  883518874\n",
       "32277  498  1007  0  881954219\n",
       "70178   10   617  1  877892160\n",
       "30079   57   126  0  883697293"
      ]
     },
     "execution_count": 100,
     "metadata": {},
     "output_type": "execute_result"
    }
   ],
   "source": [
    "shuffled_df.head(5)"
   ]
  },
  {
   "cell_type": "code",
   "execution_count": 58,
   "metadata": {},
   "outputs": [
    {
     "name": "stdout",
     "output_type": "stream",
     "text": [
      "max value of user id: 943 \n",
      "max value of movie id: 1682 \n",
      "Therefore concatenated shape of input layer: (2625,)\n"
     ]
    }
   ],
   "source": [
    "print('max value of user id:', max(shuffled_df[0]),'\\nmax value of movie id:', max(shuffled_df[1]),'\\nTherefore concatenated shape of input layer:',(max(shuffled_df[0])+max(shuffled_df[1]),))"
   ]
  },
  {
   "cell_type": "code",
   "execution_count": 60,
   "metadata": {
    "scrolled": true
   },
   "outputs": [
    {
     "name": "stderr",
     "output_type": "stream",
     "text": [
      "Using TensorFlow backend.\n"
     ]
    }
   ],
   "source": [
    "import keras\n",
    "from keras.models import Model\n",
    "from keras.layers import Input, Dense\n",
    "from keras import metrics\n",
    "from keras.utils import to_categorical"
   ]
  },
  {
   "cell_type": "code",
   "execution_count": 61,
   "metadata": {},
   "outputs": [
    {
     "name": "stdout",
     "output_type": "stream",
     "text": [
      "shape of x_train_user_in: (100000, 944) \n",
      "shape of x_train_movie_in: (100000, 1683) \n",
      "shape of x_train_user_in: (100000,)\n"
     ]
    }
   ],
   "source": [
    "x_train_user_in = to_categorical(shuffled_df[0])#contains the one-hot encoded user_id data, shaped (batch_size, max(sm_df[0]))\n",
    "x_train_movie_in = to_categorical(shuffled_df[1])#contains the one-hot encoded movie_id data, shaped (batch_size, max(sm_df[1]))\n",
    "\n",
    "y_ratings= shuffled_df[2]\n",
    "print('shape of x_train_user_in:', x_train_user_in.shape,'\\nshape of x_train_movie_in:', x_train_movie_in.shape,\n",
    "      '\\nshape of x_train_user_in:',y_ratings.shape)"
   ]
  },
  {
   "cell_type": "code",
   "execution_count": 62,
   "metadata": {},
   "outputs": [],
   "source": [
    "user_in_layer = Input(shape=(max(shuffled_df[0])+1,))#top half of input layer,+1 to accomodate on-hot encoded vectors\n",
    "movie_in_layer = Input(shape=(max(shuffled_df[1])+1,))#bottom half of input layer\n",
    "\n",
    "#total input moves as concatenated user_id & movie_id one-hot encoded forms\n",
    "\n",
    "hid_layer_u = Dense(100)(user_in_layer)#latent dimension k=100 for user_id #_Embedding(100, )\n",
    "hid_layer_m= Dense(100)(movie_in_layer)#latent dimension k=100 for movie_id\n",
    "\n",
    "merge_layer = keras.layers.dot([hid_layer_u, hid_layer_m], axes=1)\n",
    "\n",
    "\n",
    "\n",
    "predictions = Dense(1, activation='sigmoid')(merge_layer)\n",
    "\n",
    "model = Model(inputs=[user_in_layer, movie_in_layer], outputs= predictions)\n",
    "\n",
    "model.compile(loss= 'binary_crossentropy', optimizer='sgd', metrics= ['mae', 'accuracy'])"
   ]
  },
  {
   "cell_type": "code",
   "execution_count": 109,
   "metadata": {},
   "outputs": [
    {
     "name": "stdout",
     "output_type": "stream",
     "text": [
      "__________________________________________________________________________________________________\n",
      "Layer (type)                    Output Shape         Param #     Connected to                     \n",
      "==================================================================================================\n",
      "input_7 (InputLayer)            (None, 944)          0                                            \n",
      "__________________________________________________________________________________________________\n",
      "input_8 (InputLayer)            (None, 1683)         0                                            \n",
      "__________________________________________________________________________________________________\n",
      "dense_9 (Dense)                 (None, 100)          94500       input_7[0][0]                    \n",
      "__________________________________________________________________________________________________\n",
      "dense_10 (Dense)                (None, 100)          168400      input_8[0][0]                    \n",
      "__________________________________________________________________________________________________\n",
      "dot_3 (Dot)                     (None, 1)            0           dense_9[0][0]                    \n",
      "                                                                 dense_10[0][0]                   \n",
      "__________________________________________________________________________________________________\n",
      "dense_11 (Dense)                (None, 1)            2           dot_3[0][0]                      \n",
      "==================================================================================================\n",
      "Total params: 262,902\n",
      "Trainable params: 262,902\n",
      "Non-trainable params: 0\n",
      "__________________________________________________________________________________________________\n"
     ]
    }
   ],
   "source": [
    "model.summary()"
   ]
  },
  {
   "cell_type": "code",
   "execution_count": 98,
   "metadata": {},
   "outputs": [],
   "source": [
    "from keras.callbacks import ModelCheckpoint\n",
    "\n",
    "checkpoints = ModelCheckpoint('./NN_m_factorization_weights.{epoch:02}-{val_loss:.2f}.hdf5', monitor='val_loss', verbose = 1, save_best_only=True, save_weights_only=False, mode='auto', period=2)"
   ]
  },
  {
   "cell_type": "code",
   "execution_count": 71,
   "metadata": {},
   "outputs": [],
   "source": [
    "??keras.callbacks.ModelCheckpoint"
   ]
  },
  {
   "cell_type": "code",
   "execution_count": 99,
   "metadata": {
    "scrolled": true
   },
   "outputs": [
    {
     "name": "stdout",
     "output_type": "stream",
     "text": [
      "Train on 80000 samples, validate on 20000 samples\n",
      "Epoch 1/40\n",
      "80000/80000 [==============================] - 5s 65us/step - loss: 0.6864 - mean_absolute_error: 0.4934 - acc: 0.5561 - val_loss: 0.6872 - val_mean_absolute_error: 0.4941 - val_acc: 0.5524\n",
      "Epoch 2/40\n",
      "80000/80000 [==============================] - 5s 65us/step - loss: 0.6863 - mean_absolute_error: 0.4935 - acc: 0.5561 - val_loss: 0.6870 - val_mean_absolute_error: 0.4938 - val_acc: 0.5524\n",
      "\n",
      "Epoch 00002: val_loss improved from inf to 0.68703, saving model to ./NN_m_factorization_weights.02-0.69.hdf5\n",
      "Epoch 3/40\n",
      "80000/80000 [==============================] - 5s 66us/step - loss: 0.6861 - mean_absolute_error: 0.4933 - acc: 0.5561 - val_loss: 0.6868 - val_mean_absolute_error: 0.4935 - val_acc: 0.5524\n",
      "Epoch 4/40\n",
      "80000/80000 [==============================] - 5s 65us/step - loss: 0.6858 - mean_absolute_error: 0.4931 - acc: 0.5561 - val_loss: 0.6865 - val_mean_absolute_error: 0.4935 - val_acc: 0.5524\n",
      "\n",
      "Epoch 00004: val_loss improved from 0.68703 to 0.68646, saving model to ./NN_m_factorization_weights.04-0.69.hdf5\n",
      "Epoch 5/40\n",
      "80000/80000 [==============================] - 6s 71us/step - loss: 0.6853 - mean_absolute_error: 0.4930 - acc: 0.5561 - val_loss: 0.6861 - val_mean_absolute_error: 0.4926 - val_acc: 0.5524\n",
      "Epoch 6/40\n",
      "80000/80000 [==============================] - 6s 72us/step - loss: 0.6847 - mean_absolute_error: 0.4925 - acc: 0.5561 - val_loss: 0.6852 - val_mean_absolute_error: 0.4924 - val_acc: 0.5524\n",
      "\n",
      "Epoch 00006: val_loss improved from 0.68646 to 0.68523, saving model to ./NN_m_factorization_weights.06-0.69.hdf5\n",
      "Epoch 7/40\n",
      "80000/80000 [==============================] - 6s 73us/step - loss: 0.6835 - mean_absolute_error: 0.4919 - acc: 0.5561 - val_loss: 0.6838 - val_mean_absolute_error: 0.4923 - val_acc: 0.5524\n",
      "Epoch 8/40\n",
      "80000/80000 [==============================] - 6s 73us/step - loss: 0.6816 - mean_absolute_error: 0.4910 - acc: 0.5573 - val_loss: 0.6814 - val_mean_absolute_error: 0.4908 - val_acc: 0.5574\n",
      "\n",
      "Epoch 00008: val_loss improved from 0.68523 to 0.68136, saving model to ./NN_m_factorization_weights.08-0.68.hdf5\n",
      "Epoch 9/40\n",
      "80000/80000 [==============================] - 5s 67us/step - loss: 0.6780 - mean_absolute_error: 0.4891 - acc: 0.5660 - val_loss: 0.6770 - val_mean_absolute_error: 0.4877 - val_acc: 0.5653\n",
      "Epoch 10/40\n",
      "80000/80000 [==============================] - 6s 71us/step - loss: 0.6713 - mean_absolute_error: 0.4851 - acc: 0.5783 - val_loss: 0.6683 - val_mean_absolute_error: 0.4838 - val_acc: 0.5894\n",
      "\n",
      "Epoch 00010: val_loss improved from 0.68136 to 0.66829, saving model to ./NN_m_factorization_weights.10-0.67.hdf5\n",
      "Epoch 11/40\n",
      "80000/80000 [==============================] - 6s 69us/step - loss: 0.6590 - mean_absolute_error: 0.4774 - acc: 0.6059 - val_loss: 0.6533 - val_mean_absolute_error: 0.4738 - val_acc: 0.6244\n",
      "Epoch 12/40\n",
      "80000/80000 [==============================] - 5s 67us/step - loss: 0.6397 - mean_absolute_error: 0.4634 - acc: 0.6417 - val_loss: 0.6321 - val_mean_absolute_error: 0.4571 - val_acc: 0.6520\n",
      "\n",
      "Epoch 00012: val_loss improved from 0.66829 to 0.63205, saving model to ./NN_m_factorization_weights.12-0.63.hdf5\n",
      "Epoch 13/40\n",
      "80000/80000 [==============================] - 5s 68us/step - loss: 0.6162 - mean_absolute_error: 0.4436 - acc: 0.6666 - val_loss: 0.6099 - val_mean_absolute_error: 0.4360 - val_acc: 0.6686\n",
      "Epoch 14/40\n",
      "80000/80000 [==============================] - 6s 73us/step - loss: 0.5940 - mean_absolute_error: 0.4225 - acc: 0.6859 - val_loss: 0.5929 - val_mean_absolute_error: 0.4202 - val_acc: 0.6846\n",
      "\n",
      "Epoch 00014: val_loss improved from 0.63205 to 0.59288, saving model to ./NN_m_factorization_weights.14-0.59.hdf5\n",
      "Epoch 15/40\n",
      "80000/80000 [==============================] - 6s 74us/step - loss: 0.5772 - mean_absolute_error: 0.4050 - acc: 0.6995 - val_loss: 0.5802 - val_mean_absolute_error: 0.4035 - val_acc: 0.6912\n",
      "Epoch 16/40\n",
      "80000/80000 [==============================] - 6s 71us/step - loss: 0.5651 - mean_absolute_error: 0.3920 - acc: 0.7080 - val_loss: 0.5726 - val_mean_absolute_error: 0.3960 - val_acc: 0.7006\n",
      "\n",
      "Epoch 00016: val_loss improved from 0.59288 to 0.57262, saving model to ./NN_m_factorization_weights.16-0.57.hdf5\n",
      "Epoch 17/40\n",
      "80000/80000 [==============================] - 5s 64us/step - loss: 0.5571 - mean_absolute_error: 0.3837 - acc: 0.7148 - val_loss: 0.5675 - val_mean_absolute_error: 0.3888 - val_acc: 0.7040\n",
      "Epoch 18/40\n",
      "80000/80000 [==============================] - 5s 63us/step - loss: 0.5510 - mean_absolute_error: 0.3775 - acc: 0.7192 - val_loss: 0.5668 - val_mean_absolute_error: 0.3869 - val_acc: 0.7058\n",
      "\n",
      "Epoch 00018: val_loss improved from 0.57262 to 0.56675, saving model to ./NN_m_factorization_weights.18-0.57.hdf5\n",
      "Epoch 19/40\n",
      "80000/80000 [==============================] - 5s 64us/step - loss: 0.5464 - mean_absolute_error: 0.3728 - acc: 0.7219 - val_loss: 0.5634 - val_mean_absolute_error: 0.3781 - val_acc: 0.7087\n",
      "Epoch 20/40\n",
      "80000/80000 [==============================] - 5s 64us/step - loss: 0.5428 - mean_absolute_error: 0.3691 - acc: 0.7249 - val_loss: 0.5597 - val_mean_absolute_error: 0.3765 - val_acc: 0.7117\n",
      "\n",
      "Epoch 00020: val_loss improved from 0.56675 to 0.55968, saving model to ./NN_m_factorization_weights.20-0.56.hdf5\n",
      "Epoch 21/40\n",
      "80000/80000 [==============================] - 5s 63us/step - loss: 0.5401 - mean_absolute_error: 0.3665 - acc: 0.7278 - val_loss: 0.5579 - val_mean_absolute_error: 0.3759 - val_acc: 0.7129\n",
      "Epoch 22/40\n",
      "80000/80000 [==============================] - 5s 63us/step - loss: 0.5376 - mean_absolute_error: 0.3642 - acc: 0.7301 - val_loss: 0.5611 - val_mean_absolute_error: 0.3709 - val_acc: 0.7127\n",
      "\n",
      "Epoch 00022: val_loss did not improve from 0.55968\n",
      "Epoch 23/40\n",
      "80000/80000 [==============================] - 5s 64us/step - loss: 0.5357 - mean_absolute_error: 0.3620 - acc: 0.7319 - val_loss: 0.5633 - val_mean_absolute_error: 0.3784 - val_acc: 0.7079\n",
      "Epoch 24/40\n",
      "80000/80000 [==============================] - 5s 63us/step - loss: 0.5339 - mean_absolute_error: 0.3605 - acc: 0.7323 - val_loss: 0.5557 - val_mean_absolute_error: 0.3735 - val_acc: 0.7155\n",
      "\n",
      "Epoch 00024: val_loss improved from 0.55968 to 0.55569, saving model to ./NN_m_factorization_weights.24-0.56.hdf5\n",
      "Epoch 25/40\n",
      "80000/80000 [==============================] - 5s 64us/step - loss: 0.5324 - mean_absolute_error: 0.3594 - acc: 0.7334 - val_loss: 0.5564 - val_mean_absolute_error: 0.3733 - val_acc: 0.7152\n",
      "Epoch 26/40\n",
      "80000/80000 [==============================] - 5s 63us/step - loss: 0.5313 - mean_absolute_error: 0.3580 - acc: 0.7347 - val_loss: 0.5539 - val_mean_absolute_error: 0.3680 - val_acc: 0.7185\n",
      "\n",
      "Epoch 00026: val_loss improved from 0.55569 to 0.55392, saving model to ./NN_m_factorization_weights.26-0.55.hdf5\n",
      "Epoch 27/40\n",
      "80000/80000 [==============================] - 5s 64us/step - loss: 0.5303 - mean_absolute_error: 0.3575 - acc: 0.7349 - val_loss: 0.5548 - val_mean_absolute_error: 0.3662 - val_acc: 0.7209\n",
      "Epoch 28/40\n",
      "80000/80000 [==============================] - 5s 63us/step - loss: 0.5291 - mean_absolute_error: 0.3560 - acc: 0.7359 - val_loss: 0.5540 - val_mean_absolute_error: 0.3662 - val_acc: 0.7215\n",
      "\n",
      "Epoch 00028: val_loss did not improve from 0.55392\n",
      "Epoch 29/40\n",
      "80000/80000 [==============================] - 5s 63us/step - loss: 0.5281 - mean_absolute_error: 0.3557 - acc: 0.7370 - val_loss: 0.5640 - val_mean_absolute_error: 0.3756 - val_acc: 0.7071\n",
      "Epoch 30/40\n",
      "80000/80000 [==============================] - 5s 64us/step - loss: 0.5272 - mean_absolute_error: 0.3549 - acc: 0.7376 - val_loss: 0.5573 - val_mean_absolute_error: 0.3637 - val_acc: 0.7177\n",
      "\n",
      "Epoch 00030: val_loss did not improve from 0.55392\n",
      "Epoch 31/40\n",
      "80000/80000 [==============================] - 5s 64us/step - loss: 0.5263 - mean_absolute_error: 0.3543 - acc: 0.7385 - val_loss: 0.5695 - val_mean_absolute_error: 0.3773 - val_acc: 0.7022\n",
      "Epoch 32/40\n",
      "80000/80000 [==============================] - 5s 63us/step - loss: 0.5255 - mean_absolute_error: 0.3534 - acc: 0.7382 - val_loss: 0.5493 - val_mean_absolute_error: 0.3656 - val_acc: 0.7218\n",
      "\n",
      "Epoch 00032: val_loss improved from 0.55392 to 0.54926, saving model to ./NN_m_factorization_weights.32-0.55.hdf5\n",
      "Epoch 33/40\n"
     ]
    },
    {
     "name": "stdout",
     "output_type": "stream",
     "text": [
      "80000/80000 [==============================] - 5s 63us/step - loss: 0.5243 - mean_absolute_error: 0.3532 - acc: 0.7387 - val_loss: 0.5489 - val_mean_absolute_error: 0.3655 - val_acc: 0.7208\n",
      "Epoch 34/40\n",
      "80000/80000 [==============================] - 5s 63us/step - loss: 0.5236 - mean_absolute_error: 0.3523 - acc: 0.7407 - val_loss: 0.5509 - val_mean_absolute_error: 0.3683 - val_acc: 0.7181\n",
      "\n",
      "Epoch 00034: val_loss did not improve from 0.54926\n",
      "Epoch 35/40\n",
      "80000/80000 [==============================] - 5s 63us/step - loss: 0.5229 - mean_absolute_error: 0.3520 - acc: 0.7398 - val_loss: 0.5536 - val_mean_absolute_error: 0.3698 - val_acc: 0.7152\n",
      "Epoch 36/40\n",
      "80000/80000 [==============================] - 5s 63us/step - loss: 0.5218 - mean_absolute_error: 0.3515 - acc: 0.7404 - val_loss: 0.5475 - val_mean_absolute_error: 0.3649 - val_acc: 0.7216\n",
      "\n",
      "Epoch 00036: val_loss improved from 0.54926 to 0.54753, saving model to ./NN_m_factorization_weights.36-0.55.hdf5\n",
      "Epoch 37/40\n",
      "80000/80000 [==============================] - 5s 63us/step - loss: 0.5202 - mean_absolute_error: 0.3505 - acc: 0.7424 - val_loss: 0.5499 - val_mean_absolute_error: 0.3672 - val_acc: 0.7193\n",
      "Epoch 38/40\n",
      "80000/80000 [==============================] - 5s 63us/step - loss: 0.5195 - mean_absolute_error: 0.3499 - acc: 0.7424 - val_loss: 0.5525 - val_mean_absolute_error: 0.3608 - val_acc: 0.7226\n",
      "\n",
      "Epoch 00038: val_loss did not improve from 0.54753\n",
      "Epoch 39/40\n",
      "80000/80000 [==============================] - 5s 63us/step - loss: 0.5186 - mean_absolute_error: 0.3495 - acc: 0.7442 - val_loss: 0.5464 - val_mean_absolute_error: 0.3641 - val_acc: 0.7239\n",
      "Epoch 40/40\n",
      "80000/80000 [==============================] - 5s 63us/step - loss: 0.5174 - mean_absolute_error: 0.3489 - acc: 0.7436 - val_loss: 0.5457 - val_mean_absolute_error: 0.3630 - val_acc: 0.7247\n",
      "\n",
      "Epoch 00040: val_loss improved from 0.54753 to 0.54568, saving model to ./NN_m_factorization_weights.40-0.55.hdf5\n"
     ]
    }
   ],
   "source": [
    "history = model.fit([x_train_user_in, x_train_movie_in], y_ratings, verbose=1, epochs=40, batch_size=32, validation_split=0.2, callbacks=[checkpoints])"
   ]
  },
  {
   "cell_type": "code",
   "execution_count": 101,
   "metadata": {
    "scrolled": true
   },
   "outputs": [
    {
     "data": {
      "text/plain": [
       "dict_keys(['val_loss', 'val_mean_absolute_error', 'val_acc', 'loss', 'mean_absolute_error', 'acc'])"
      ]
     },
     "execution_count": 101,
     "metadata": {},
     "output_type": "execute_result"
    }
   ],
   "source": [
    "history.history.keys()"
   ]
  },
  {
   "cell_type": "code",
   "execution_count": 102,
   "metadata": {},
   "outputs": [],
   "source": [
    "import matplotlib.pyplot as plt"
   ]
  },
  {
   "cell_type": "code",
   "execution_count": 103,
   "metadata": {
    "scrolled": true
   },
   "outputs": [
    {
     "data": {
      "text/plain": [
       "<matplotlib.legend.Legend at 0x20b6aa54198>"
      ]
     },
     "execution_count": 103,
     "metadata": {},
     "output_type": "execute_result"
    },
    {
     "data": {
      "image/png": "[encoded data removed]",
      "text/plain": [
       "<Figure size 432x288 with 1 Axes>"
      ]
     },
     "metadata": {
      "needs_background": "light"
     },
     "output_type": "display_data"
    }
   ],
   "source": [
    "plt.plot(history.history['loss'])\n",
    "plt.plot(history.history['val_loss'])\n",
    "plt.title('model loss')\n",
    "plt.xlabel('epoch')\n",
    "plt.ylabel('loss')\n",
    "\n",
    "plt.legend(['train', 'validation'], loc= 'upper right')"
   ]
  },
  {
   "cell_type": "code",
   "execution_count": 104,
   "metadata": {},
   "outputs": [
    {
     "data": {
      "text/plain": [
       "<matplotlib.legend.Legend at 0x20b6aa8eba8>"
      ]
     },
     "execution_count": 104,
     "metadata": {},
     "output_type": "execute_result"
    },
    {
     "data": {
      "image/png": "[encoded data removed]",
      "text/plain": [
       "<Figure size 432x288 with 1 Axes>"
      ]
     },
     "metadata": {
      "needs_background": "light"
     },
     "output_type": "display_data"
    }
   ],
   "source": [
    "plt.plot(history.history['acc'])\n",
    "plt.plot(history.history['val_acc'])\n",
    "plt.title('model accuracy')\n",
    "plt.xlabel('epoch')\n",
    "plt.ylabel('accuracy')\n",
    "\n",
    "plt.legend(['train', 'validation'], loc= 'upper right')"
   ]
  },
  {
   "cell_type": "code",
   "execution_count": null,
   "metadata": {},
   "outputs": [],
   "source": []
  },
  {
   "cell_type": "code",
   "execution_count": null,
   "metadata": {},
   "outputs": [],
   "source": []
  },
  {
   "cell_type": "code",
   "execution_count": 114,
   "metadata": {
    "scrolled": true
   },
   "outputs": [
    {
     "name": "stdout",
     "output_type": "stream",
     "text": [
      "Train on 80000 samples, validate on 20000 samples\n",
      "Epoch 1/40\n",
      "80000/80000 [==============================] - 5s 63us/step - loss: 0.5266 - mean_absolute_error: 0.3542 - acc: 0.7370 - val_loss: 0.5563 - val_mean_absolute_error: 0.3704 - val_acc: 0.7150\n",
      "Epoch 2/40\n",
      "80000/80000 [==============================] - 5s 63us/step - loss: 0.5247 - mean_absolute_error: 0.3538 - acc: 0.7374 - val_loss: 0.5510 - val_mean_absolute_error: 0.3625 - val_acc: 0.7205\n",
      "Epoch 3/40\n",
      "80000/80000 [==============================] - 5s 64us/step - loss: 0.5243 - mean_absolute_error: 0.3529 - acc: 0.7381 - val_loss: 0.5501 - val_mean_absolute_error: 0.3653 - val_acc: 0.7193\n",
      "Epoch 4/40\n",
      "80000/80000 [==============================] - 5s 63us/step - loss: 0.5232 - mean_absolute_error: 0.3517 - acc: 0.7378 - val_loss: 0.5577 - val_mean_absolute_error: 0.3699 - val_acc: 0.7153\n",
      "Epoch 5/40\n",
      "80000/80000 [==============================] - 5s 64us/step - loss: 0.5227 - mean_absolute_error: 0.3516 - acc: 0.7392 - val_loss: 0.5498 - val_mean_absolute_error: 0.3657 - val_acc: 0.7197\n",
      "Epoch 6/40\n",
      "80000/80000 [==============================] - 5s 64us/step - loss: 0.5212 - mean_absolute_error: 0.3513 - acc: 0.7403 - val_loss: 0.5704 - val_mean_absolute_error: 0.3739 - val_acc: 0.7035\n",
      "Epoch 7/40\n",
      "80000/80000 [==============================] - 5s 65us/step - loss: 0.5207 - mean_absolute_error: 0.3506 - acc: 0.7408 - val_loss: 0.5482 - val_mean_absolute_error: 0.3612 - val_acc: 0.7213\n",
      "Epoch 8/40\n",
      "80000/80000 [==============================] - 5s 65us/step - loss: 0.5196 - mean_absolute_error: 0.3498 - acc: 0.7419 - val_loss: 0.5484 - val_mean_absolute_error: 0.3605 - val_acc: 0.7224\n",
      "Epoch 9/40\n",
      "80000/80000 [==============================] - 5s 65us/step - loss: 0.5184 - mean_absolute_error: 0.3490 - acc: 0.7427 - val_loss: 0.5552 - val_mean_absolute_error: 0.3590 - val_acc: 0.7182\n",
      "Epoch 10/40\n",
      "80000/80000 [==============================] - 5s 65us/step - loss: 0.5176 - mean_absolute_error: 0.3488 - acc: 0.7426 - val_loss: 0.5468 - val_mean_absolute_error: 0.3619 - val_acc: 0.7229\n",
      "Epoch 11/40\n",
      "80000/80000 [==============================] - 5s 66us/step - loss: 0.5164 - mean_absolute_error: 0.3481 - acc: 0.7439 - val_loss: 0.5504 - val_mean_absolute_error: 0.3650 - val_acc: 0.7205\n",
      "Epoch 12/40\n",
      "80000/80000 [==============================] - 6s 72us/step - loss: 0.5153 - mean_absolute_error: 0.3478 - acc: 0.7445 - val_loss: 0.5460 - val_mean_absolute_error: 0.3597 - val_acc: 0.7249\n",
      "Epoch 13/40\n",
      "80000/80000 [==============================] - 5s 67us/step - loss: 0.5140 - mean_absolute_error: 0.3469 - acc: 0.7457 - val_loss: 0.5459 - val_mean_absolute_error: 0.3620 - val_acc: 0.7229\n",
      "Epoch 14/40\n",
      "80000/80000 [==============================] - 6s 71us/step - loss: 0.5131 - mean_absolute_error: 0.3463 - acc: 0.7460 - val_loss: 0.5455 - val_mean_absolute_error: 0.3589 - val_acc: 0.7250\n",
      "Epoch 15/40\n",
      "80000/80000 [==============================] - 5s 68us/step - loss: 0.5122 - mean_absolute_error: 0.3459 - acc: 0.7465 - val_loss: 0.5441 - val_mean_absolute_error: 0.3602 - val_acc: 0.7255\n",
      "Epoch 16/40\n",
      "80000/80000 [==============================] - 5s 67us/step - loss: 0.5107 - mean_absolute_error: 0.3452 - acc: 0.7468 - val_loss: 0.5469 - val_mean_absolute_error: 0.3633 - val_acc: 0.7233\n",
      "Epoch 17/40\n",
      "80000/80000 [==============================] - 5s 67us/step - loss: 0.5093 - mean_absolute_error: 0.3445 - acc: 0.7484 - val_loss: 0.5434 - val_mean_absolute_error: 0.3605 - val_acc: 0.7241\n",
      "Epoch 18/40\n",
      "80000/80000 [==============================] - 5s 65us/step - loss: 0.5082 - mean_absolute_error: 0.3444 - acc: 0.7499 - val_loss: 0.5436 - val_mean_absolute_error: 0.3573 - val_acc: 0.7258\n",
      "Epoch 19/40\n",
      "80000/80000 [==============================] - 5s 67us/step - loss: 0.5066 - mean_absolute_error: 0.3433 - acc: 0.7513 - val_loss: 0.5453 - val_mean_absolute_error: 0.3619 - val_acc: 0.7236\n",
      "Epoch 20/40\n",
      "80000/80000 [==============================] - 6s 70us/step - loss: 0.5051 - mean_absolute_error: 0.3425 - acc: 0.7516 - val_loss: 0.5545 - val_mean_absolute_error: 0.3550 - val_acc: 0.7176\n",
      "Epoch 21/40\n",
      "80000/80000 [==============================] - 6s 71us/step - loss: 0.5037 - mean_absolute_error: 0.3418 - acc: 0.7528 - val_loss: 0.5409 - val_mean_absolute_error: 0.3567 - val_acc: 0.7275\n",
      "Epoch 22/40\n",
      "80000/80000 [==============================] - 6s 78us/step - loss: 0.5016 - mean_absolute_error: 0.3413 - acc: 0.7545 - val_loss: 0.5414 - val_mean_absolute_error: 0.3555 - val_acc: 0.7282\n",
      "Epoch 23/40\n",
      "80000/80000 [==============================] - 6s 73us/step - loss: 0.5001 - mean_absolute_error: 0.3402 - acc: 0.7548 - val_loss: 0.5410 - val_mean_absolute_error: 0.3598 - val_acc: 0.7275\n",
      "Epoch 24/40\n",
      "80000/80000 [==============================] - 6s 72us/step - loss: 0.4979 - mean_absolute_error: 0.3393 - acc: 0.7570 - val_loss: 0.5401 - val_mean_absolute_error: 0.3593 - val_acc: 0.7271\n",
      "Epoch 25/40\n",
      "80000/80000 [==============================] - 5s 67us/step - loss: 0.4959 - mean_absolute_error: 0.3385 - acc: 0.7590 - val_loss: 0.5372 - val_mean_absolute_error: 0.3555 - val_acc: 0.7300\n",
      "Epoch 26/40\n",
      "80000/80000 [==============================] - 5s 67us/step - loss: 0.4939 - mean_absolute_error: 0.3375 - acc: 0.7598 - val_loss: 0.5359 - val_mean_absolute_error: 0.3551 - val_acc: 0.7312\n",
      "Epoch 27/40\n",
      "80000/80000 [==============================] - 5s 66us/step - loss: 0.4915 - mean_absolute_error: 0.3364 - acc: 0.7617 - val_loss: 0.5507 - val_mean_absolute_error: 0.3644 - val_acc: 0.7208\n",
      "Epoch 28/40\n",
      "80000/80000 [==============================] - 6s 70us/step - loss: 0.4885 - mean_absolute_error: 0.3351 - acc: 0.7639 - val_loss: 0.5339 - val_mean_absolute_error: 0.3537 - val_acc: 0.7322\n",
      "Epoch 29/40\n",
      "80000/80000 [==============================] - 5s 65us/step - loss: 0.4858 - mean_absolute_error: 0.3338 - acc: 0.7651 - val_loss: 0.5320 - val_mean_absolute_error: 0.3539 - val_acc: 0.7335\n",
      "Epoch 30/40\n",
      "80000/80000 [==============================] - 6s 71us/step - loss: 0.4834 - mean_absolute_error: 0.3328 - acc: 0.7679 - val_loss: 0.5366 - val_mean_absolute_error: 0.3505 - val_acc: 0.7308\n",
      "Epoch 31/40\n",
      "80000/80000 [==============================] - 5s 66us/step - loss: 0.4803 - mean_absolute_error: 0.3317 - acc: 0.7701 - val_loss: 0.5296 - val_mean_absolute_error: 0.3513 - val_acc: 0.7358\n",
      "Epoch 32/40\n",
      "80000/80000 [==============================] - 5s 67us/step - loss: 0.4768 - mean_absolute_error: 0.3292 - acc: 0.7722 - val_loss: 0.5547 - val_mean_absolute_error: 0.3650 - val_acc: 0.7168\n",
      "Epoch 33/40\n",
      "80000/80000 [==============================] - 6s 76us/step - loss: 0.4731 - mean_absolute_error: 0.3278 - acc: 0.7768 - val_loss: 0.5258 - val_mean_absolute_error: 0.3510 - val_acc: 0.7385\n",
      "Epoch 34/40\n",
      "80000/80000 [==============================] - 5s 66us/step - loss: 0.4696 - mean_absolute_error: 0.3266 - acc: 0.7788 - val_loss: 0.5240 - val_mean_absolute_error: 0.3495 - val_acc: 0.7387\n",
      "Epoch 35/40\n",
      "80000/80000 [==============================] - 5s 65us/step - loss: 0.4656 - mean_absolute_error: 0.3247 - acc: 0.7824 - val_loss: 0.5275 - val_mean_absolute_error: 0.3463 - val_acc: 0.7368\n",
      "Epoch 36/40\n",
      "80000/80000 [==============================] - 5s 65us/step - loss: 0.4613 - mean_absolute_error: 0.3223 - acc: 0.7851 - val_loss: 0.5207 - val_mean_absolute_error: 0.3491 - val_acc: 0.7426\n",
      "Epoch 37/40\n",
      "80000/80000 [==============================] - 5s 65us/step - loss: 0.4565 - mean_absolute_error: 0.3199 - acc: 0.7891 - val_loss: 0.5184 - val_mean_absolute_error: 0.3482 - val_acc: 0.7450\n",
      "Epoch 38/40\n",
      "80000/80000 [==============================] - 5s 66us/step - loss: 0.4521 - mean_absolute_error: 0.3180 - acc: 0.7932 - val_loss: 0.5156 - val_mean_absolute_error: 0.3459 - val_acc: 0.7462\n",
      "Epoch 39/40\n",
      "80000/80000 [==============================] - 5s 68us/step - loss: 0.4469 - mean_absolute_error: 0.3153 - acc: 0.7977 - val_loss: 0.5129 - val_mean_absolute_error: 0.3435 - val_acc: 0.7504\n",
      "Epoch 40/40\n",
      "80000/80000 [==============================] - 5s 65us/step - loss: 0.4409 - mean_absolute_error: 0.3120 - acc: 0.8029 - val_loss: 0.5130 - val_mean_absolute_error: 0.3415 - val_acc: 0.7474\n"
     ]
    },
    {
     "data": {
      "text/plain": [
       "<keras.callbacks.History at 0x1f8ac2e9400>"
      ]
     },
     "execution_count": 114,
     "metadata": {},
     "output_type": "execute_result"
    }
   ],
   "source": [
    "model.fit([x_train_user_in, x_train_movie_in], y_ratings, verbose=1, epochs=40, batch_size=32, validation_split=0.2)"
   ]
  },
  {
   "cell_type": "markdown",
   "metadata": {},
   "source": []
  },
  {
   "cell_type": "markdown",
   "metadata": {},
   "source": [
    "* #### Therefore with 80k training datapoints & 20k validation datapoints:\n",
    "    * MAE value with surprise SVD implementation: 0.3390\n",
    "    * MAE value with surprise SVD++ implementation: 0.3563\n",
    "    * MAE value after 40 epochs with matrix factorization with NN implementation: 0.3120 \n",
    "    \n",
    "\n"
   ]
  }
 ],
 "metadata": {
  "kernelspec": {
   "display_name": "Python 3",
   "language": "python",
   "name": "python3"
  },
  "language_info": {
   "codemirror_mode": {
    "name": "ipython",
    "version": 3
   },
   "file_extension": ".py",
   "mimetype": "text/x-python",
   "name": "python",
   "nbconvert_exporter": "python",
   "pygments_lexer": "ipython3",
   "version": "3.6.7"
  }
 },
 "nbformat": 4,
 "nbformat_minor": 2
}
