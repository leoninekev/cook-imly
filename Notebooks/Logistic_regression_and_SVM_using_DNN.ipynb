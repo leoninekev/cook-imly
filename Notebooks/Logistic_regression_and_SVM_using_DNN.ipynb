{
 "cells": [
  {
   "cell_type": "markdown",
   "metadata": {},
   "source": [
    "# Steps involved in creating a neural network #\n",
    "\n",
    "1) Define the model\n",
    "2) Compile the model\n",
    "3) Fit the model\n"
   ]
  },
  {
   "cell_type": "code",
   "execution_count": 1,
   "metadata": {},
   "outputs": [],
   "source": [
    "# Import iris dataset #\n",
    "import pandas as pd\n",
    "import numpy as np\n",
    "from sklearn.datasets import load_iris\n",
    "from sklearn.metrics import classification_report\n",
    "from sklearn.metrics import confusion_matrix\n",
    "iris = load_iris()\n",
    "iris_df = pd.DataFrame(data=np.c_[iris['data'],iris['target']],\n",
    "                    columns=iris['feature_names'] + ['target'])\n",
    "iris_df = iris_df.loc[iris_df['target'] != 2]\n",
    "feature_vector = iris_df.columns.str.contains('cm')\n",
    "X = iris_df.loc[:,feature_vector]\n",
    "Y = iris_df[['target']]\n",
    "\n",
    "# Split the dataset into test and train datasets\n",
    "\n",
    "from sklearn.model_selection import train_test_split\n",
    "x_train, x_test, y_train, y_test = train_test_split(X, Y, test_size=0.60, random_state=0)\n",
    "\n",
    "# \"\"\"\n",
    "# Objective - Convert the dataset to binary dataset\n",
    "# 1. Convert it to a dataframe. Why? What is a dataframe? DONE\n",
    "# 2. Filter target with !=2 and features with corresponding value. DONE\n",
    "# 3. What is the current data type of iris variable? DONE\n",
    "#     + Bunch data type by sklearn. A dictionary with two numpy arrays -- data and target.\n",
    "#     Contains additional details about the dataset as well.\n",
    "# 4. Qs\n",
    "#     + Cross check the parameters in train_test_split()\n",
    "# \"\"\"\n"
   ]
  },
  {
   "cell_type": "markdown",
   "metadata": {},
   "source": [
    "# Logistic regression using DNN #\n",
    "    1. The model\n",
    "    2. Confusion matrix\n",
    "    3. Classification report"
   ]
  },
  {
   "cell_type": "markdown",
   "metadata": {},
   "source": [
    "__The Model__"
   ]
  },
  {
   "cell_type": "code",
   "execution_count": 10,
   "metadata": {
    "scrolled": false
   },
   "outputs": [
    {
     "name": "stdout",
     "output_type": "stream",
     "text": [
      "60/60 [==============================] - 0s 6ms/step\n",
      "\n",
      "acc: 46.67%\n"
     ]
    }
   ],
   "source": [
    "### Logistic regression using DNN ###\n",
    "from keras.models import Sequential\n",
    "from keras.layers.core import Dense, Activation\n",
    "from keras.utils import np_utils\n",
    "\n",
    "np.random.seed(7)\n",
    "nb_classes = 4\n",
    "\n",
    "# Defining model #\n",
    "\n",
    "model = Sequential()\n",
    "model.add(Dense(1,input_dim=4,activation='sigmoid'))\n",
    "# model.add(Dense(1))\n",
    "# model.add(Activation('softmax'))\n",
    "# model.add(Dense(16,activation='sigmoid'))\n",
    "# model.add(Dense(1,activation='sigmoid'))\n",
    "\n",
    "# Compile the model #\n",
    "\n",
    "model.compile(loss='binary_crossentropy', optimizer='adam', metrics=['accuracy'])\n",
    "\n",
    "# Fit the model #\n",
    "\n",
    "# model.fit(x_train, y_train, validation_data=(x_test, y_test), epochs=200, batch_size=10)\n",
    "model.fit(x_train, y_train, epochs=100, batch_size=10, verbose=0)\n",
    "# model.fit(x_train, y_train, epochs=50, batch_size=1)\n",
    "# How is the dataset distributed?\n",
    "# model.fit(x_train, y_train, epochs=150, batch_size=10)\n",
    "# model.summary()\n",
    "\n",
    "# Evaluate the model #\n",
    "\n",
    "scores = model.evaluate(x_test, y_test)\n",
    "print(\"\\n%s: %.2f%%\" % (model.metrics_names[1], scores[1]*100))\n",
    "\n",
    "# \"\"\"\n",
    "# Classification report and optimization\n",
    "#     1. Adding an exhaustive classification report\n",
    "#     2. Analyse the report\n",
    "#     3. Improve the model\n",
    "#     4. Cross check the existing code\n",
    "# \"\"\"\n"
   ]
  },
  {
   "cell_type": "markdown",
   "metadata": {},
   "source": [
    "**K fold cross validation**"
   ]
  },
  {
   "cell_type": "code",
   "execution_count": 13,
   "metadata": {
    "scrolled": true
   },
   "outputs": [
    {
     "name": "stdout",
     "output_type": "stream",
     "text": [
      "acc: 100.00%\n",
      "acc: 100.00%\n",
      "acc: 100.00%\n",
      "acc: 90.00%\n",
      "acc: 100.00%\n",
      "acc: 100.00%\n",
      "acc: 100.00%\n",
      "acc: 100.00%\n",
      "acc: 100.00%\n",
      "acc: 100.00%\n",
      "99.00% (+/- 3.00%)\n"
     ]
    }
   ],
   "source": [
    "# MLP for Pima Indians Dataset with 10-fold cross validation\n",
    "from keras.models import Sequential\n",
    "from keras.layers import Dense\n",
    "from sklearn.model_selection import StratifiedKFold\n",
    "import numpy\n",
    "# fix random seed for reproducibility\n",
    "seed = 7\n",
    "numpy.random.seed(seed)\n",
    "# # load pima indians dataset\n",
    "# dataset = numpy.loadtxt(\"pima-indians-diabetes.csv\", delimiter=\",\")\n",
    "# # split into input (X) and output (Y) variables\n",
    "# X = dataset[:,0:8]\n",
    "# Y = dataset[:,8]\n",
    "# define 10-fold cross validation test harness\n",
    "kfold = StratifiedKFold(n_splits=10, shuffle=True, random_state=seed)\n",
    "cvscores = []\n",
    "# X = X.values\n",
    "# Y = Y.values\n",
    "# print(type(X))\n",
    "for train, test in kfold.split(X, Y):\n",
    "    # create model\n",
    "    model = Sequential()\n",
    "    model.add(Dense(1,input_dim=4,activation='sigmoid'))\n",
    "    # Compile model\n",
    "    model.compile(loss='binary_crossentropy', optimizer='adam', metrics=['accuracy'])\n",
    "    # Fit the model\n",
    "    # model.fit(X[train], Y[train], epochs=150, batch_size=10, verbose=0)\n",
    "    model.fit(X.iloc[train], Y.iloc[train], epochs=120, batch_size=10, verbose=0)\n",
    "    # evaluate the model\n",
    "    scores = model.evaluate(X.iloc[test], Y.iloc[test], verbose=0)\n",
    "    print(\"%s: %.2f%%\" % (model.metrics_names[1], scores[1]*100))\n",
    "    cvscores.append(scores[1] * 100)\n",
    "print(\"%.2f%% (+/- %.2f%%)\" % (numpy.mean(cvscores), numpy.std(cvscores)))"
   ]
  },
  {
   "cell_type": "code",
   "execution_count": null,
   "metadata": {},
   "outputs": [],
   "source": [
    "# ROC Curve #"
   ]
  },
  {
   "cell_type": "markdown",
   "metadata": {},
   "source": [
    "__Confusion Matrix__"
   ]
  },
  {
   "cell_type": "code",
   "execution_count": 22,
   "metadata": {},
   "outputs": [
    {
     "data": {
      "image/png": "[encoded data removed]",
      "text/plain": [
       "<Figure size 432x288 with 1 Axes>"
      ]
     },
     "metadata": {
      "needs_background": "light"
     },
     "output_type": "display_data"
    }
   ],
   "source": [
    "# Prediction #\n",
    "from sklearn import metrics\n",
    "import matplotlib.pyplot as plt\n",
    "\n",
    "y_pred = model.predict(x_test)\n",
    "# print(y_pred)\n",
    "y_pred = (y_pred>0.5)\n",
    "fpr, tpr, threshold = metrics.roc_curve(y_test, y_pred)\n",
    "roc_auc = metrics.auc(fpr, tpr)\n",
    "\n",
    "\n",
    "plt.title('Receiver Operating Characteristic')\n",
    "plt.plot(fpr, tpr, 'b', label = 'AUC = %0.2f' % roc_auc)\n",
    "plt.legend(loc = 'lower right')\n",
    "plt.plot([0, 1], [0, 1],'r--')\n",
    "plt.xlim([0, 1])\n",
    "plt.ylim([0, 1])\n",
    "plt.ylabel('True Positive Rate')\n",
    "plt.xlabel('False Positive Rate')\n",
    "plt.show()\n",
    "\n",
    "# Plot ROC curve. Sensitivity vs specificity\n",
    "# Try changing the threshold value\n",
    "# prediction.shape\n",
    "# print(prediction)\n",
    "\n",
    "# Creating the Confusion Matrix\n",
    "cm = confusion_matrix(y_test, y_pred)\n",
    "# print(cm)\n",
    "# Remove the 3rd class #\n",
    "# Loss function and response variable encoding(y_observed) #"
   ]
  },
  {
   "cell_type": "markdown",
   "metadata": {},
   "source": [
    "__Classification Report__"
   ]
  },
  {
   "cell_type": "code",
   "execution_count": 5,
   "metadata": {},
   "outputs": [
    {
     "name": "stdout",
     "output_type": "stream",
     "text": [
      "             precision    recall  f1-score   support\n",
      "\n",
      "     setosa       1.00      1.00      1.00        32\n",
      " versicolor       1.00      1.00      1.00        28\n",
      "\n",
      "avg / total       1.00      1.00      1.00        60\n",
      "\n"
     ]
    }
   ],
   "source": [
    "target_names = [iris.target_names[0], iris.target_names[1]]\n",
    "print(classification_report(y_test, y_pred, target_names=target_names))"
   ]
  },
  {
   "cell_type": "markdown",
   "metadata": {},
   "source": [
    "# SVM using DNN #\n",
    "\n",
    "    1. The model\n",
    "    2. Confusion matrix\n",
    "    3. Classification report"
   ]
  },
  {
   "cell_type": "code",
   "execution_count": 6,
   "metadata": {},
   "outputs": [
    {
     "name": "stdout",
     "output_type": "stream",
     "text": [
      "Epoch 1/60\n",
      "100/100 [==============================] - 0s 3ms/step - loss: 1.8721 - acc: 0.1100\n",
      "Epoch 2/60\n",
      "100/100 [==============================] - 0s 110us/step - loss: 1.8194 - acc: 0.2200\n",
      "Epoch 3/60\n",
      "100/100 [==============================] - 0s 79us/step - loss: 1.7660 - acc: 0.3900\n",
      "Epoch 4/60\n",
      "100/100 [==============================] - 0s 120us/step - loss: 1.7166 - acc: 0.4800\n",
      "Epoch 5/60\n",
      "100/100 [==============================] - 0s 80us/step - loss: 1.6821 - acc: 0.5000\n",
      "Epoch 6/60\n",
      "100/100 [==============================] - 0s 100us/step - loss: 1.6562 - acc: 0.5000\n",
      "Epoch 7/60\n",
      "100/100 [==============================] - 0s 70us/step - loss: 1.6399 - acc: 0.5000\n",
      "Epoch 8/60\n",
      "100/100 [==============================] - 0s 90us/step - loss: 1.6244 - acc: 0.5000\n",
      "Epoch 9/60\n",
      "100/100 [==============================] - 0s 60us/step - loss: 1.6092 - acc: 0.5000\n",
      "Epoch 10/60\n",
      "100/100 [==============================] - 0s 70us/step - loss: 1.5913 - acc: 0.5000\n",
      "Epoch 11/60\n",
      "100/100 [==============================] - 0s 70us/step - loss: 1.5755 - acc: 0.5000\n",
      "Epoch 12/60\n",
      "100/100 [==============================] - 0s 90us/step - loss: 1.5582 - acc: 0.5000\n",
      "Epoch 13/60\n",
      "100/100 [==============================] - 0s 70us/step - loss: 1.5427 - acc: 0.5000\n",
      "Epoch 14/60\n",
      "100/100 [==============================] - 0s 100us/step - loss: 1.5258 - acc: 0.5000\n",
      "Epoch 15/60\n",
      "100/100 [==============================] - 0s 70us/step - loss: 1.5104 - acc: 0.5000\n",
      "Epoch 16/60\n",
      "100/100 [==============================] - 0s 80us/step - loss: 1.4935 - acc: 0.5000\n",
      "Epoch 17/60\n",
      "100/100 [==============================] - 0s 60us/step - loss: 1.4776 - acc: 0.5000\n",
      "Epoch 18/60\n",
      "100/100 [==============================] - 0s 90us/step - loss: 1.4612 - acc: 0.5000\n",
      "Epoch 19/60\n",
      "100/100 [==============================] - 0s 80us/step - loss: 1.4437 - acc: 0.5000\n",
      "Epoch 20/60\n",
      "100/100 [==============================] - 0s 80us/step - loss: 1.4281 - acc: 0.5000\n",
      "Epoch 21/60\n",
      "100/100 [==============================] - 0s 60us/step - loss: 1.4132 - acc: 0.5000\n",
      "Epoch 22/60\n",
      "100/100 [==============================] - 0s 70us/step - loss: 1.3960 - acc: 0.5000\n",
      "Epoch 23/60\n",
      "100/100 [==============================] - 0s 60us/step - loss: 1.3794 - acc: 0.5000\n",
      "Epoch 24/60\n",
      "100/100 [==============================] - 0s 60us/step - loss: 1.3629 - acc: 0.5000\n",
      "Epoch 25/60\n",
      "100/100 [==============================] - 0s 70us/step - loss: 1.3472 - acc: 0.5000\n",
      "Epoch 26/60\n",
      "100/100 [==============================] - 0s 60us/step - loss: 1.3311 - acc: 0.5000\n",
      "Epoch 27/60\n",
      "100/100 [==============================] - 0s 90us/step - loss: 1.3146 - acc: 0.5000\n",
      "Epoch 28/60\n",
      "100/100 [==============================] - 0s 70us/step - loss: 1.2988 - acc: 0.5000\n",
      "Epoch 29/60\n",
      "100/100 [==============================] - 0s 90us/step - loss: 1.2829 - acc: 0.5000\n",
      "Epoch 30/60\n",
      "100/100 [==============================] - 0s 60us/step - loss: 1.2666 - acc: 0.5000\n",
      "Epoch 31/60\n",
      "100/100 [==============================] - 0s 60us/step - loss: 1.2505 - acc: 0.5000\n",
      "Epoch 32/60\n",
      "100/100 [==============================] - 0s 60us/step - loss: 1.2347 - acc: 0.5000\n",
      "Epoch 33/60\n",
      "100/100 [==============================] - 0s 60us/step - loss: 1.2181 - acc: 0.5000\n",
      "Epoch 34/60\n",
      "100/100 [==============================] - 0s 60us/step - loss: 1.2028 - acc: 0.5000\n",
      "Epoch 35/60\n",
      "100/100 [==============================] - 0s 70us/step - loss: 1.1863 - acc: 0.5000\n",
      "Epoch 36/60\n",
      "100/100 [==============================] - 0s 60us/step - loss: 1.1705 - acc: 0.5000\n",
      "Epoch 37/60\n",
      "100/100 [==============================] - 0s 70us/step - loss: 1.1549 - acc: 0.5000\n",
      "Epoch 38/60\n",
      "100/100 [==============================] - 0s 60us/step - loss: 1.1416 - acc: 0.5000\n",
      "Epoch 39/60\n",
      "100/100 [==============================] - 0s 60us/step - loss: 1.1229 - acc: 0.5000\n",
      "Epoch 40/60\n",
      "100/100 [==============================] - 0s 60us/step - loss: 1.1070 - acc: 0.5000\n",
      "Epoch 41/60\n",
      "100/100 [==============================] - 0s 50us/step - loss: 1.0912 - acc: 0.5000\n",
      "Epoch 42/60\n",
      "100/100 [==============================] - 0s 120us/step - loss: 1.0762 - acc: 0.5000\n",
      "Epoch 43/60\n",
      "100/100 [==============================] - 0s 80us/step - loss: 1.0605 - acc: 0.5000\n",
      "Epoch 44/60\n",
      "100/100 [==============================] - 0s 60us/step - loss: 1.0448 - acc: 0.5000\n",
      "Epoch 45/60\n",
      "100/100 [==============================] - 0s 70us/step - loss: 1.0301 - acc: 0.5000\n",
      "Epoch 46/60\n",
      "100/100 [==============================] - 0s 70us/step - loss: 1.0143 - acc: 0.5000\n",
      "Epoch 47/60\n",
      "100/100 [==============================] - 0s 70us/step - loss: 0.9989 - acc: 0.5000\n",
      "Epoch 48/60\n",
      "100/100 [==============================] - 0s 70us/step - loss: 0.9837 - acc: 0.5000\n",
      "Epoch 49/60\n",
      "100/100 [==============================] - 0s 90us/step - loss: 0.9688 - acc: 0.5000\n",
      "Epoch 50/60\n",
      "100/100 [==============================] - 0s 90us/step - loss: 0.9525 - acc: 0.5000\n",
      "Epoch 51/60\n",
      "100/100 [==============================] - 0s 110us/step - loss: 0.9376 - acc: 0.5000\n",
      "Epoch 52/60\n",
      "100/100 [==============================] - 0s 80us/step - loss: 0.9224 - acc: 0.5000\n",
      "Epoch 53/60\n",
      "100/100 [==============================] - 0s 90us/step - loss: 0.9065 - acc: 0.5000\n",
      "Epoch 54/60\n",
      "100/100 [==============================] - 0s 100us/step - loss: 0.8916 - acc: 0.5000\n",
      "Epoch 55/60\n",
      "100/100 [==============================] - 0s 80us/step - loss: 0.8769 - acc: 0.5000\n",
      "Epoch 56/60\n",
      "100/100 [==============================] - 0s 60us/step - loss: 0.8610 - acc: 0.5200\n",
      "Epoch 57/60\n",
      "100/100 [==============================] - 0s 110us/step - loss: 0.8451 - acc: 0.5400\n",
      "Epoch 58/60\n",
      "100/100 [==============================] - 0s 70us/step - loss: 0.8306 - acc: 0.6000\n",
      "Epoch 59/60\n",
      "100/100 [==============================] - 0s 100us/step - loss: 0.8152 - acc: 0.6800\n",
      "Epoch 60/60\n",
      "100/100 [==============================] - 0s 60us/step - loss: 0.8009 - acc: 0.7500\n",
      "100/100 [==============================] - 0s 957us/step\n",
      "\n",
      "acc: 81.00%\n"
     ]
    }
   ],
   "source": [
    "### SVM using DNN ###\n",
    "\n",
    "# Defining model #\n",
    "np.random.seed(7)\n",
    "\n",
    "model = Sequential()\n",
    "model.add(Dense(1,input_dim=4,activation='linear'))\n",
    "# model.add(Dense(1,activation='linear'))\n",
    "\n",
    "# Compile the model #\n",
    "\n",
    "model.compile(loss='categorical_hinge', optimizer='adam', metrics=['accuracy'])\n",
    "\n",
    "# Fit the model #\n",
    "\n",
    "model.fit(X, Y, epochs=60, batch_size=10)\n",
    "\n",
    "# Evaluate the model #\n",
    "\n",
    "scores = model.evaluate(X, Y)\n",
    "print(\"\\n%s: %.2f%%\" % (model.metrics_names[1], scores[1]*100))"
   ]
  },
  {
   "cell_type": "markdown",
   "metadata": {},
   "source": [
    "# Qs/Doubts #\n",
    "1. Core methods to analyse\n",
    "    + Sequential\n",
    "    + add\n",
    "    + compile\n",
    "    + fit\n",
    "    + evaluate\n",
    "2. What exactly is sequential for?\n",
    "3. Classification report\n",
    "    + precision\n",
    "    + recall\n",
    "    + f1 score\n",
    "    + support\n"
   ]
  },
  {
   "cell_type": "code",
   "execution_count": null,
   "metadata": {},
   "outputs": [],
   "source": []
  }
 ],
 "metadata": {
  "kernelspec": {
   "display_name": "Python 3",
   "language": "python",
   "name": "python3"
  },
  "language_info": {
   "codemirror_mode": {
    "name": "ipython",
    "version": 3
   },
   "file_extension": ".py",
   "mimetype": "text/x-python",
   "name": "python",
   "nbconvert_exporter": "python",
   "pygments_lexer": "ipython3",
   "version": "3.6.6"
  }
 },
 "nbformat": 4,
 "nbformat_minor": 2
}
