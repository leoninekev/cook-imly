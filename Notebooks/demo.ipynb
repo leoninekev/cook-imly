{
 "cells": [
  {
   "cell_type": "markdown",
   "metadata": {},
   "source": [
    "To do -  \n",
    "1) Monkey patching sklearn models\n",
    "    + Do it for one method - say 'fit'\n",
    "    + Replicate this for the remaining methods\n",
    "2) Mapping -- tineyDB part  \n",
    "3) Testing -- writing learnings from the experiment  \n",
    "to the master sheet"
   ]
  },
  {
   "cell_type": "markdown",
   "metadata": {},
   "source": [
    "---"
   ]
  },
  {
   "cell_type": "markdown",
   "metadata": {},
   "source": [
    "### Demo for Linear regression"
   ]
  },
  {
   "cell_type": "markdown",
   "metadata": {},
   "source": [
    "#### Mathematical representation\n",
    "1) Fit  \n",
    "2) Predict  \n",
    "3) Score  \n",
    "4) Loss  \n",
    "5) Optimization  "
   ]
  },
  {
   "cell_type": "markdown",
   "metadata": {},
   "source": [
    "+ $ Y_i = \\beta_0 + \\beta_1 x_{i1} +\\cdots + \\beta_p x_{ip} + \\epsilon_i,\\qquad i = 1,\\ldots,n $  \n",
    "\n",
    "+ **Score**\n",
    "  + $ {MSE} = \\frac{1}{n}\\sum_{i=1}^n (Y_i - \\hat Y_i)^2 $"
   ]
  },
  {
   "cell_type": "code",
   "execution_count": 1,
   "metadata": {},
   "outputs": [
    {
     "name": "stderr",
     "output_type": "stream",
     "text": [
      "Using TensorFlow backend.\n"
     ]
    }
   ],
   "source": [
    "from sklearn.linear_model import LinearRegression\n",
    "from imly2 import dope\n",
    "import pandas as pd\n",
    "import numpy as np\n",
    "from sklearn.model_selection import train_test_split\n",
    "from sklearn import datasets\n",
    "from sklearn.preprocessing import StandardScaler\n",
    "\n",
    "diabetes = datasets.load_diabetes()\n",
    "\n",
    "# Use only one feature\n",
    "diabetes_X = diabetes.data[:, np.newaxis, 2]\n",
    "sc = StandardScaler()\n",
    "diabetes.data = sc.fit_transform(diabetes.data)\n",
    "\n",
    "x = diabetes_X\n",
    "y = diabetes.target\n",
    "\n",
    "\n",
    "# Split the data into training/testing sets\n",
    "x_train = diabetes_X[:-20]\n",
    "x_test = diabetes_X[-20:]\n",
    "\n",
    "# Split the targets into training/testing sets\n",
    "y_train = diabetes.target[:-20]\n",
    "y_test = diabetes.target[-20:]\n"
   ]
  },
  {
   "cell_type": "code",
   "execution_count": 2,
   "metadata": {},
   "outputs": [
    {
     "name": "stderr",
     "output_type": "stream",
     "text": [
      "100%|██████████| 4/4 [00:05<00:00,  1.61s/it]\n"
     ]
    },
    {
     "name": "stdout",
     "output_type": "stream",
     "text": [
      "Scan Finished!\n",
      "Deploy package linear_regression_firstDataset have been saved.\n",
      "Loaded model from disk\n",
      "Epoch 1/1\n",
      "422/422 [==============================] - ETA: 2s - loss: 28938.5566 - mean_squared_error: 28938.55 - 0s 545us/step - loss: 29285.0845 - mean_squared_error: 29285.0845\n"
     ]
    },
    {
     "data": {
      "text/plain": [
       "<keras.callbacks.History at 0x220822ccdd8>"
      ]
     },
     "execution_count": 2,
     "metadata": {},
     "output_type": "execute_result"
    }
   ],
   "source": [
    "model = LinearRegression()\n",
    "\n",
    "m = dope(model)\n",
    "\n",
    "m.fit(x_train,y_train)"
   ]
  },
  {
   "cell_type": "code",
   "execution_count": 3,
   "metadata": {},
   "outputs": [
    {
     "name": "stdout",
     "output_type": "stream",
     "text": [
      "-20604.9306640625 [0.62085533 0.59610635 0.60677797 0.5958793  0.59724164 0.6056427\n",
      " 0.6231259  0.5974687  0.5924735  0.5979228  0.6160872  0.59179235\n",
      " 0.6047345  0.5995122  0.5888406  0.60859436 0.6011016  0.6011016\n",
      " 0.6126814  0.5890677 ]\n"
     ]
    }
   ],
   "source": [
    "y_pred = m.predict(x_test)\n",
    "score = m.score(x_test,y_test)\n",
    "\n",
    "print(score, y_pred)"
   ]
  },
  {
   "cell_type": "code",
   "execution_count": 4,
   "metadata": {},
   "outputs": [
    {
     "name": "stderr",
     "output_type": "stream",
     "text": [
      "The maximum opset needed by this model is only 7.\n"
     ]
    }
   ],
   "source": [
    "\n",
    "onnx_model = m.save()"
   ]
  },
  {
   "cell_type": "code",
   "execution_count": 5,
   "metadata": {},
   "outputs": [
    {
     "data": {
      "text/plain": [
       "ir_version: 3\n",
       "producer_name: \"OnnxMLTools\"\n",
       "producer_version: \"1.3.1\"\n",
       "domain: \"onnxml\"\n",
       "model_version: 0\n",
       "doc_string: \"\"\n",
       "graph {\n",
       "  node {\n",
       "    input: \"dense_1_input_1_0\"\n",
       "    input: \"W\"\n",
       "    output: \"transformed_tensor\"\n",
       "    name: \"_class__keras_layers_core_Dense__\"\n",
       "    op_type: \"MatMul\"\n",
       "    domain: \"\"\n",
       "  }\n",
       "  node {\n",
       "    input: \"transformed_tensor\"\n",
       "    input: \"B\"\n",
       "    output: \"biased_tensor_name\"\n",
       "    name: \"Add\"\n",
       "    op_type: \"Add\"\n",
       "    domain: \"\"\n",
       "  }\n",
       "  node {\n",
       "    input: \"biased_tensor_name\"\n",
       "    output: \"dense_1_1_BiasAdd_01\"\n",
       "    name: \"Identity\"\n",
       "    op_type: \"Identity\"\n",
       "    domain: \"\"\n",
       "  }\n",
       "  name: \"43a08dc854154fbdb21b103625d92687\"\n",
       "  initializer {\n",
       "    dims: 1\n",
       "    dims: 1\n",
       "    data_type: FLOAT\n",
       "    float_data: 0.21066272258758545\n",
       "    name: \"W\"\n",
       "  }\n",
       "  initializer {\n",
       "    dims: 1\n",
       "    data_type: FLOAT\n",
       "    float_data: 0.6044524312019348\n",
       "    name: \"B\"\n",
       "  }\n",
       "  input {\n",
       "    name: \"dense_1_input_1_0\"\n",
       "    type {\n",
       "      tensor_type {\n",
       "        elem_type: FLOAT\n",
       "        shape {\n",
       "          dim {\n",
       "            dim_value: 1\n",
       "          }\n",
       "          dim {\n",
       "            dim_value: 1\n",
       "          }\n",
       "        }\n",
       "      }\n",
       "    }\n",
       "  }\n",
       "  input {\n",
       "    name: \"W\"\n",
       "    type {\n",
       "      tensor_type {\n",
       "        elem_type: FLOAT\n",
       "        shape {\n",
       "          dim {\n",
       "            dim_value: 1\n",
       "          }\n",
       "          dim {\n",
       "            dim_value: 1\n",
       "          }\n",
       "        }\n",
       "      }\n",
       "    }\n",
       "  }\n",
       "  input {\n",
       "    name: \"B\"\n",
       "    type {\n",
       "      tensor_type {\n",
       "        elem_type: FLOAT\n",
       "        shape {\n",
       "          dim {\n",
       "            dim_value: 1\n",
       "          }\n",
       "        }\n",
       "      }\n",
       "    }\n",
       "  }\n",
       "  output {\n",
       "    name: \"dense_1_1_BiasAdd_01\"\n",
       "    type {\n",
       "      tensor_type {\n",
       "        elem_type: FLOAT\n",
       "        shape {\n",
       "          dim {\n",
       "            dim_value: 1\n",
       "          }\n",
       "          dim {\n",
       "            dim_value: 1\n",
       "          }\n",
       "        }\n",
       "      }\n",
       "    }\n",
       "  }\n",
       "}\n",
       "opset_import {\n",
       "  domain: \"\"\n",
       "  version: 7\n",
       "}"
      ]
     },
     "execution_count": 5,
     "metadata": {},
     "output_type": "execute_result"
    }
   ],
   "source": [
    "onnx_model"
   ]
  },
  {
   "cell_type": "code",
   "execution_count": 4,
   "metadata": {},
   "outputs": [],
   "source": [
    "m.fit(x_train,y_train, using = 'sklearn') # executes sklearn fit\n",
    "\n",
    "y_pred = m.predict(x_test, using='sklearn') # executes sklearn predict\n",
    "\n",
    "score = m.score(x_test, y_test, using='sklearn') # sklearn equivalent\n",
    "\n",
    "m.save(using = 'sklearn') "
   ]
  },
  {
   "cell_type": "markdown",
   "metadata": {},
   "source": [
    "---"
   ]
  },
  {
   "cell_type": "code",
   "execution_count": 2,
   "metadata": {},
   "outputs": [
    {
     "name": "stdout",
     "output_type": "stream",
     "text": [
      "{'using': 'dnn', 'params': 'parameters'}\n"
     ]
    }
   ],
   "source": [
    "def test_function(model, **kwargs):\n",
    "    kwargs.setdefault('using','dnn')\n",
    "    kwargs.setdefault('params','parameters')\n",
    "    print(kwargs)\n",
    "    if kwargs['using']=='sklearn':\n",
    "        print('kwargs from kwargs -- ',kwargs['using'])\n",
    "        print('Model from kwargs -- ',model)\n",
    "    elif kwargs == {}:\n",
    "        print('Model from non-kwargs -- ', model)\n",
    "        \n",
    "        \n",
    "test_function('hi')"
   ]
  },
  {
   "cell_type": "code",
   "execution_count": 9,
   "metadata": {},
   "outputs": [],
   "source": []
  },
  {
   "cell_type": "code",
   "execution_count": null,
   "metadata": {},
   "outputs": [],
   "source": []
  }
 ],
 "metadata": {
  "kernelspec": {
   "display_name": "Python 3",
   "language": "python",
   "name": "python3"
  },
  "language_info": {
   "codemirror_mode": {
    "name": "ipython",
    "version": 3
   },
   "file_extension": ".py",
   "mimetype": "text/x-python",
   "name": "python",
   "nbconvert_exporter": "python",
   "pygments_lexer": "ipython3",
   "version": "3.6.6"
  }
 },
 "nbformat": 4,
 "nbformat_minor": 2
}
