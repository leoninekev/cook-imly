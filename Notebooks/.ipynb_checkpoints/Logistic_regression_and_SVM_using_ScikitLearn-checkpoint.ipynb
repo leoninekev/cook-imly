{
 "cells": [
  {
   "cell_type": "code",
   "execution_count": 1,
   "metadata": {},
   "outputs": [],
   "source": [
    "# Notes on Logistic regression and SVM\n",
    "### Logistic Regression ###\n",
    "\n",
    "# First draft\n",
    "#  1) Load the Iris dataset\n",
    "#  2) Set Test and Training data\n",
    "#  3) Train the logistic regression model with Train dataset\n",
    "#  4) Test the precision using Test dataset\n",
    "\n",
    "# Steps as per standard processes\n",
    "#  1) Load dataset\n",
    "#  2) Explore the dataset\n",
    "#  3) 4 Step Modelling pattern\n",
    "#    a) Import the model\n",
    "#    b) Make an instance of the model\n",
    "#    c) Train the model using train dataset\n",
    "#    d) Predict using test dataset\n",
    "#  4) Check the performance\n",
    "#    a) Score method in sklearn\n",
    "#    b) Confusion matrix\n",
    "\n",
    "### SVM ###\n",
    "\n",
    "# First draft\n",
    "# 1) Load the iris dataset\n",
    "# 2) Split into test and train\n",
    "# 3) Train the model\n",
    "# 4) Test the performance of the model\n",
    "# 5) Tweak the model by changing the parameters(Regularization, Gamma etc)\n",
    "# 6) Observe the changes and ponder on the reasons for the change\n",
    "\n",
    "# Steps followed\n",
    "# 1) 4-step process\n",
    "# 2) The difference in SVM was the part were we could set kernel type - linear or non-linear"
   ]
  },
  {
   "cell_type": "code",
   "execution_count": 2,
   "metadata": {},
   "outputs": [],
   "source": [
    "# Load data \n",
    "\n",
    "from sklearn.datasets import load_iris\n",
    "iris = load_iris()"
   ]
  },
  {
   "cell_type": "code",
   "execution_count": 3,
   "metadata": {},
   "outputs": [],
   "source": [
    "# Split the dataset into test and train datasets\n",
    "\n",
    "from sklearn.model_selection import train_test_split\n",
    "x_train, x_test, y_train, y_test = train_test_split(iris.data, iris.target, test_size=0.60, random_state=0)"
   ]
  },
  {
   "cell_type": "code",
   "execution_count": 4,
   "metadata": {},
   "outputs": [],
   "source": [
    "# Import and create an instance of your model(Logistic regression)\n",
    "\n",
    "from sklearn.linear_model import LogisticRegression\n",
    "logisticRegr = LogisticRegression()\n",
    "\n",
    "# getAttr of logisticRegr #\n",
    "# keras wrapper(for scikit learn) #\n",
    "# Checkout winML repo/source code #"
   ]
  },
  {
   "cell_type": "code",
   "execution_count": 5,
   "metadata": {},
   "outputs": [
    {
     "name": "stderr",
     "output_type": "stream",
     "text": [
      "/home/shakkeel/anaconda3/lib/python3.6/site-packages/sklearn/linear_model/logistic.py:432: FutureWarning: Default solver will be changed to 'lbfgs' in 0.22. Specify a solver to silence this warning.\n",
      "  FutureWarning)\n",
      "/home/shakkeel/anaconda3/lib/python3.6/site-packages/sklearn/linear_model/logistic.py:459: FutureWarning: Default multi_class will be changed to 'auto' in 0.22. Specify the multi_class option to silence this warning.\n",
      "  \"this warning.\", FutureWarning)\n"
     ]
    },
    {
     "data": {
      "text/plain": [
       "LogisticRegression(C=1.0, class_weight=None, dual=False, fit_intercept=True,\n",
       "          intercept_scaling=1, max_iter=100, multi_class='warn',\n",
       "          n_jobs=None, penalty='l2', random_state=None, solver='warn',\n",
       "          tol=0.0001, verbose=0, warm_start=False)"
      ]
     },
     "execution_count": 5,
     "metadata": {},
     "output_type": "execute_result"
    }
   ],
   "source": [
    "# Train your model using the training dataset\n",
    "\n",
    "logisticRegr.fit(x_train,y_train)"
   ]
  },
  {
   "cell_type": "code",
   "execution_count": 6,
   "metadata": {},
   "outputs": [],
   "source": [
    "# Predict the output \n",
    "\n",
    "predictions = logisticRegr.predict(x_test)"
   ]
  },
  {
   "cell_type": "code",
   "execution_count": 7,
   "metadata": {},
   "outputs": [
    {
     "name": "stdout",
     "output_type": "stream",
     "text": [
      "0.8777777777777778\n"
     ]
    }
   ],
   "source": [
    "score = logisticRegr.score(x_test,y_test)\n",
    "print(score)"
   ]
  },
  {
   "cell_type": "code",
   "execution_count": 8,
   "metadata": {},
   "outputs": [
    {
     "name": "stdout",
     "output_type": "stream",
     "text": [
      "0.9666666666666667\n",
      "              precision    recall  f1-score   support\n",
      "\n",
      "           0       1.00      1.00      1.00        26\n",
      "           1       0.94      0.97      0.96        33\n",
      "           2       0.97      0.94      0.95        31\n",
      "\n",
      "   micro avg       0.97      0.97      0.97        90\n",
      "   macro avg       0.97      0.97      0.97        90\n",
      "weighted avg       0.97      0.97      0.97        90\n",
      "\n",
      "[[26  0  0]\n",
      " [ 0 32  1]\n",
      " [ 0  2 29]]\n"
     ]
    }
   ],
   "source": [
    "### SVM ###\n",
    "\n",
    "## Using support vector classifier(SVC) ##\n",
    "\n",
    "from sklearn.svm import SVC\n",
    "svclassifier = SVC(kernel='linear')\n",
    "svclassifier.fit(x_train,y_train)\n",
    "prediction = svclassifier.predict(x_test)\n",
    "\n",
    "score = svclassifier.score(x_test,y_test)\n",
    "print(score)\n",
    "\n",
    "# Evaluating the algorithm\n",
    "\n",
    "from sklearn.metrics import classification_report, confusion_matrix\n",
    "print(classification_report(y_test,prediction))\n",
    "print(confusion_matrix(y_test,prediction))"
   ]
  },
  {
   "cell_type": "code",
   "execution_count": 9,
   "metadata": {},
   "outputs": [],
   "source": [
    "### SVM using non-linear classifier ###\n",
    "\n",
    "## Gaussian ##\n",
    "## Kernel SVM ##\n",
    "## Sigmoid ##"
   ]
  }
 ],
 "metadata": {
  "kernelspec": {
   "display_name": "Python 3",
   "language": "python",
   "name": "python3"
  },
  "language_info": {
   "codemirror_mode": {
    "name": "ipython",
    "version": 3
   },
   "file_extension": ".py",
   "mimetype": "text/x-python",
   "name": "python",
   "nbconvert_exporter": "python",
   "pygments_lexer": "ipython3",
   "version": "3.6.6"
  }
 },
 "nbformat": 4,
 "nbformat_minor": 2
}
