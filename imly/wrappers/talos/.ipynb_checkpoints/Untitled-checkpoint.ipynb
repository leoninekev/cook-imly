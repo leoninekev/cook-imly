{
 "cells": [
  {
   "cell_type": "code",
   "execution_count": 13,
   "metadata": {},
   "outputs": [
    {
     "data": {
      "text/plain": [
       "{'lr': [2, 10, 30],\n",
       " 'first_neuron': [1],\n",
       " 'batch_size': [10],\n",
       " 'epochs': [10],\n",
       " 'weight_regulizer': [None],\n",
       " 'emb_output_dims': [None],\n",
       " 'optimizer': ['nadam'],\n",
       " 'losses': ['mse'],\n",
       " 'activation': ['linear']}"
      ]
     },
     "execution_count": 13,
     "metadata": {},
     "output_type": "execute_result"
    }
   ],
   "source": [
    "import json\n",
    "p = json.load(open('../../architectures/talos/params.json'))\n",
    "p_dict = p['params']['KerasRegressor']['config']\n",
    "p_dict"
   ]
  },
  {
   "cell_type": "code",
   "execution_count": 6,
   "metadata": {},
   "outputs": [
    {
     "name": "stdout",
     "output_type": "stream",
     "text": [
      "{'params': {'1': 1, '2': 2}}\n"
     ]
    }
   ],
   "source": [
    "def test(**kwargs):\n",
    "    kwargs.setdefault('params',{'model_name': 'kerasRegressor'})\n",
    "    test2(kwargs)\n",
    "\n",
    "def test2(kwargs):\n",
    "    params = {'1':1, '2':2}\n",
    "    kwargs['params']=params\n",
    "    print(kwargs)\n",
    "    \n",
    "test()"
   ]
  },
  {
   "cell_type": "code",
   "execution_count": 15,
   "metadata": {},
   "outputs": [
    {
     "ename": "NameError",
     "evalue": "name 'KerasRegressor' is not defined",
     "output_type": "error",
     "traceback": [
      "\u001b[1;31m---------------------------------------------------------------------------\u001b[0m",
      "\u001b[1;31mNameError\u001b[0m                                 Traceback (most recent call last)",
      "\u001b[1;32m<ipython-input-15-4f4317b51101>\u001b[0m in \u001b[0;36m<module>\u001b[1;34m()\u001b[0m\n\u001b[1;32m----> 1\u001b[1;33m \u001b[1;32mclass\u001b[0m \u001b[0msklearnKeras\u001b[0m\u001b[1;33m(\u001b[0m\u001b[0mKerasRegressor\u001b[0m\u001b[1;33m)\u001b[0m\u001b[1;33m:\u001b[0m\u001b[1;33m\u001b[0m\u001b[0m\n\u001b[0m\u001b[0;32m      2\u001b[0m     \u001b[1;32mdef\u001b[0m \u001b[0m__init__\u001b[0m\u001b[1;33m(\u001b[0m\u001b[0mself\u001b[0m\u001b[1;33m,\u001b[0m\u001b[0mobj\u001b[0m\u001b[1;33m)\u001b[0m\u001b[1;33m:\u001b[0m\u001b[1;33m\u001b[0m\u001b[0m\n\u001b[0;32m      3\u001b[0m         \u001b[0mself\u001b[0m\u001b[1;33m.\u001b[0m\u001b[0mobj\u001b[0m \u001b[1;33m=\u001b[0m \u001b[0mobj\u001b[0m\u001b[1;33m\u001b[0m\u001b[0m\n\u001b[0;32m      4\u001b[0m \u001b[1;33m\u001b[0m\u001b[0m\n\u001b[0;32m      5\u001b[0m \u001b[1;32mclass\u001b[0m \u001b[0mKerasRegressor\u001b[0m\u001b[1;33m(\u001b[0m\u001b[0mBaseWrapper\u001b[0m\u001b[1;33m)\u001b[0m\u001b[1;33m:\u001b[0m\u001b[1;33m\u001b[0m\u001b[0m\n",
      "\u001b[1;31mNameError\u001b[0m: name 'KerasRegressor' is not defined"
     ]
    }
   ],
   "source": [
    "    \n",
    "class BaseWrapper():\n",
    "    def __init__(self,build_fn):\n",
    "        self.build_fn = build_fn\n",
    "\n",
    "class KerasRegressor(BaseWrapper):\n",
    "    def some_function():\n",
    "        pass\n",
    "        \n",
    "class sklearnKeras(KerasRegressor):\n",
    "    def __init__(self,obj):\n",
    "        self.obj = obj\n",
    "        \n",
    "c = sklearnKeras(build_fn = 'a',obj=1)"
   ]
  },
  {
   "cell_type": "code",
   "execution_count": null,
   "metadata": {},
   "outputs": [],
   "source": []
  }
 ],
 "metadata": {
  "kernelspec": {
   "display_name": "Python 3",
   "language": "python",
   "name": "python3"
  },
  "language_info": {
   "codemirror_mode": {
    "name": "ipython",
    "version": 3
   },
   "file_extension": ".py",
   "mimetype": "text/x-python",
   "name": "python",
   "nbconvert_exporter": "python",
   "pygments_lexer": "ipython3",
   "version": "3.6.6"
  }
 },
 "nbformat": 4,
 "nbformat_minor": 2
}
